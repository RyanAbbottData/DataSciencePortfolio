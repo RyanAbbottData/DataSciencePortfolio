{
 "cells": [
  {
   "cell_type": "code",
   "execution_count": 1,
   "id": "bd5ae478",
   "metadata": {
    "_cell_guid": "b1076dfc-b9ad-4769-8c92-a6c4dae69d19",
    "_uuid": "8f2839f25d086af736a60e9eeb907d3b93b6e0e5",
    "execution": {
     "iopub.execute_input": "2023-01-23T17:45:53.100134Z",
     "iopub.status.busy": "2023-01-23T17:45:53.099635Z",
     "iopub.status.idle": "2023-01-23T17:45:53.111839Z",
     "shell.execute_reply": "2023-01-23T17:45:53.110580Z"
    },
    "papermill": {
     "duration": 0.025099,
     "end_time": "2023-01-23T17:45:53.114599",
     "exception": false,
     "start_time": "2023-01-23T17:45:53.089500",
     "status": "completed"
    },
    "tags": []
   },
   "outputs": [],
   "source": [
    "# This Python 3 environment comes with many helpful analytics libraries installed\n",
    "# It is defined by the kaggle/python Docker image: https://github.com/kaggle/docker-python\n",
    "# For example, here's several helpful packages to load\n",
    "\n",
    "import numpy as np # linear algebra\n",
    "import pandas as pd # data processing, CSV file I/O (e.g. pd.read_csv)\n",
    "\n",
    "# Input data files are available in the read-only \"../input/\" directory\n",
    "# For example, running this (by clicking run or pressing Shift+Enter) will list all files under the input directory\n",
    "\n",
    "import os\n",
    "for dirname, _, filenames in os.walk('/kaggle/input/train'):\n",
    "    for filename in filenames:\n",
    "        print(os.path.join(dirname, filename))\n",
    "\n",
    "# You can write up to 20GB to the current directory (/kaggle/working/) that gets preserved as output when you create a version using \"Save & Run All\" \n",
    "# You can also write temporary files to /kaggle/temp/, but they won't be saved outside of the current session"
   ]
  },
  {
   "cell_type": "code",
   "execution_count": 2,
   "id": "b7165e31",
   "metadata": {
    "execution": {
     "iopub.execute_input": "2023-01-23T17:45:53.129800Z",
     "iopub.status.busy": "2023-01-23T17:45:53.129374Z",
     "iopub.status.idle": "2023-01-23T17:45:53.134573Z",
     "shell.execute_reply": "2023-01-23T17:45:53.133371Z"
    },
    "papermill": {
     "duration": 0.015526,
     "end_time": "2023-01-23T17:45:53.136821",
     "exception": false,
     "start_time": "2023-01-23T17:45:53.121295",
     "status": "completed"
    },
    "tags": []
   },
   "outputs": [],
   "source": [
    "path = '/kaggle/input/covid19-image-dataset/Covid19-dataset/'\n",
    "\n",
    "#for folder in os.listdir(path + 'train'):\n",
    "#    print(folder)\n",
    "#    for image in os.listdir(path + 'train/' + folder):\n",
    "#        print(\"\")"
   ]
  },
  {
   "cell_type": "code",
   "execution_count": 3,
   "id": "129f7374",
   "metadata": {
    "execution": {
     "iopub.execute_input": "2023-01-23T17:45:53.152104Z",
     "iopub.status.busy": "2023-01-23T17:45:53.151670Z",
     "iopub.status.idle": "2023-01-23T17:45:53.157954Z",
     "shell.execute_reply": "2023-01-23T17:45:53.156431Z"
    },
    "papermill": {
     "duration": 0.017204,
     "end_time": "2023-01-23T17:45:53.160696",
     "exception": false,
     "start_time": "2023-01-23T17:45:53.143492",
     "status": "completed"
    },
    "tags": []
   },
   "outputs": [],
   "source": [
    "train_data = '/kaggle/input/covid19-image-dataset/Covid19-dataset/train/'\n",
    "test_data = '/kaggle/input/covid19-image-dataset/Covid19-dataset/test/'\n",
    "\n",
    "#import cv2\n",
    "#train_heights = []\n",
    "#train_widths = []\n",
    "\n",
    "#for folder in os.listdir(path + 'train'):\n",
    "#    print(folder)\n",
    "#    for image in os.listdir(path + 'train/' + folder):\n",
    "#        img = cv2.imread(train_data + folder + '/' + image)\n",
    "#        height, width = img.shape[:2]\n",
    "#        train_heights.append(height)\n",
    "#        train_widths.append(width)\n",
    "#        print(img.shape)\n",
    "        "
   ]
  },
  {
   "cell_type": "code",
   "execution_count": 4,
   "id": "272abf71",
   "metadata": {
    "execution": {
     "iopub.execute_input": "2023-01-23T17:45:53.176848Z",
     "iopub.status.busy": "2023-01-23T17:45:53.176422Z",
     "iopub.status.idle": "2023-01-23T17:46:01.738831Z",
     "shell.execute_reply": "2023-01-23T17:46:01.736554Z"
    },
    "papermill": {
     "duration": 8.57451,
     "end_time": "2023-01-23T17:46:01.741942",
     "exception": false,
     "start_time": "2023-01-23T17:45:53.167432",
     "status": "completed"
    },
    "tags": []
   },
   "outputs": [
    {
     "name": "stdout",
     "output_type": "stream",
     "text": [
      "Found 251 images belonging to 3 classes.\n",
      "Found 66 images belonging to 3 classes.\n",
      "(array([[[[0.01960784, 0.01960784, 0.01960784],\n",
      "         [0.19215688, 0.19215688, 0.19215688],\n",
      "         [0.19215688, 0.19215688, 0.19215688],\n",
      "         ...,\n",
      "         [0.19215688, 0.19215688, 0.19215688],\n",
      "         [0.19215688, 0.19215688, 0.19215688],\n",
      "         [0.19215688, 0.19215688, 0.19215688]],\n",
      "\n",
      "        [[0.19215688, 0.19215688, 0.19215688],\n",
      "         [0.19215688, 0.19215688, 0.19215688],\n",
      "         [0.19215688, 0.19215688, 0.19215688],\n",
      "         ...,\n",
      "         [0.19215688, 0.19215688, 0.19215688],\n",
      "         [0.19215688, 0.19215688, 0.19215688],\n",
      "         [0.19215688, 0.19215688, 0.19215688]],\n",
      "\n",
      "        [[0.19607845, 0.19607845, 0.19607845],\n",
      "         [0.19215688, 0.19215688, 0.19215688],\n",
      "         [0.19215688, 0.19215688, 0.19215688],\n",
      "         ...,\n",
      "         [0.19215688, 0.19215688, 0.19215688],\n",
      "         [0.19215688, 0.19215688, 0.19215688],\n",
      "         [0.19215688, 0.19215688, 0.19215688]],\n",
      "\n",
      "        ...,\n",
      "\n",
      "        [[0.        , 0.        , 0.        ],\n",
      "         [0.        , 0.        , 0.        ],\n",
      "         [0.        , 0.        , 0.        ],\n",
      "         ...,\n",
      "         [0.19215688, 0.19215688, 0.19215688],\n",
      "         [0.19215688, 0.19215688, 0.19215688],\n",
      "         [0.19215688, 0.19215688, 0.19215688]],\n",
      "\n",
      "        [[0.        , 0.        , 0.        ],\n",
      "         [0.        , 0.        , 0.        ],\n",
      "         [0.        , 0.        , 0.        ],\n",
      "         ...,\n",
      "         [0.19215688, 0.19215688, 0.19215688],\n",
      "         [0.19215688, 0.19215688, 0.19215688],\n",
      "         [0.19215688, 0.19215688, 0.19215688]],\n",
      "\n",
      "        [[0.        , 0.        , 0.        ],\n",
      "         [0.        , 0.        , 0.        ],\n",
      "         [0.        , 0.        , 0.        ],\n",
      "         ...,\n",
      "         [0.19215688, 0.19215688, 0.19215688],\n",
      "         [0.19215688, 0.19215688, 0.19215688],\n",
      "         [0.19215688, 0.19215688, 0.19215688]]]], dtype=float32), array([[0., 1., 0.]], dtype=float32))\n",
      "[0 0 0 0 0 0 0 0 0 0 0 0 0 0 0 0 0 0 0 0 0 0 0 0 0 0 0 0 0 0 0 0 0 0 0 0 0\n",
      " 0 0 0 0 0 0 0 0 0 0 0 0 0 0 0 0 0 0 0 0 0 0 0 0 0 0 0 0 0 0 0 0 0 0 0 0 0\n",
      " 0 0 0 0 0 0 0 0 0 0 0 0 0 0 0 0 0 0 0 0 0 0 0 0 0 0 0 0 0 0 0 0 0 0 0 0 0\n",
      " 1 1 1 1 1 1 1 1 1 1 1 1 1 1 1 1 1 1 1 1 1 1 1 1 1 1 1 1 1 1 1 1 1 1 1 1 1\n",
      " 1 1 1 1 1 1 1 1 1 1 1 1 1 1 1 1 1 1 1 1 1 1 1 1 1 1 1 1 1 1 1 1 1 2 2 2 2\n",
      " 2 2 2 2 2 2 2 2 2 2 2 2 2 2 2 2 2 2 2 2 2 2 2 2 2 2 2 2 2 2 2 2 2 2 2 2 2\n",
      " 2 2 2 2 2 2 2 2 2 2 2 2 2 2 2 2 2 2 2 2 2 2 2 2 2 2 2 2 2]\n"
     ]
    }
   ],
   "source": [
    "from keras.preprocessing.image import ImageDataGenerator\n",
    "\n",
    "batch_size = 1\n",
    "height, width = 256, 256\n",
    "train_datagen = ImageDataGenerator(rescale=1. / 255)\n",
    "  \n",
    "test_datagen = ImageDataGenerator(rescale=1. / 255)\n",
    "  \n",
    "train_generator = train_datagen.flow_from_directory(\n",
    "    train_data,\n",
    "    target_size=(width, height),\n",
    "    batch_size=batch_size,\n",
    "    class_mode='categorical')\n",
    "  \n",
    "validation_generator = test_datagen.flow_from_directory(\n",
    "    test_data,\n",
    "    target_size=(width, height),\n",
    "    batch_size=batch_size,\n",
    "    class_mode='categorical')\n",
    "\n",
    "i = train_generator[1]\n",
    "print(i)\n",
    "\n",
    "print(train_generator.labels)"
   ]
  },
  {
   "cell_type": "code",
   "execution_count": 5,
   "id": "2cf8f906",
   "metadata": {
    "execution": {
     "iopub.execute_input": "2023-01-23T17:46:01.758392Z",
     "iopub.status.busy": "2023-01-23T17:46:01.757523Z",
     "iopub.status.idle": "2023-01-23T17:46:01.763813Z",
     "shell.execute_reply": "2023-01-23T17:46:01.762788Z"
    },
    "papermill": {
     "duration": 0.01692,
     "end_time": "2023-01-23T17:46:01.765999",
     "exception": false,
     "start_time": "2023-01-23T17:46:01.749079",
     "status": "completed"
    },
    "tags": []
   },
   "outputs": [],
   "source": [
    "from keras.models import Sequential\n",
    "from keras.layers import Conv2D, MaxPooling2D, GlobalMaxPooling2D, Activation, Dropout, Flatten, Dense, Input\n",
    "import tensorflow as tf\n",
    "from tensorflow import keras"
   ]
  },
  {
   "cell_type": "code",
   "execution_count": 6,
   "id": "3d8a8711",
   "metadata": {
    "execution": {
     "iopub.execute_input": "2023-01-23T17:46:01.781750Z",
     "iopub.status.busy": "2023-01-23T17:46:01.781064Z",
     "iopub.status.idle": "2023-01-23T17:46:02.754731Z",
     "shell.execute_reply": "2023-01-23T17:46:02.752614Z"
    },
    "papermill": {
     "duration": 0.984893,
     "end_time": "2023-01-23T17:46:02.757530",
     "exception": false,
     "start_time": "2023-01-23T17:46:01.772637",
     "status": "completed"
    },
    "tags": []
   },
   "outputs": [
    {
     "name": "stderr",
     "output_type": "stream",
     "text": [
      "2023-01-23 17:46:01.859304: I tensorflow/core/common_runtime/process_util.cc:146] Creating new thread pool with default inter op setting: 2. Tune using inter_op_parallelism_threads for best performance.\n"
     ]
    },
    {
     "name": "stdout",
     "output_type": "stream",
     "text": [
      "Model: \"sequential\"\n",
      "_________________________________________________________________\n",
      "Layer (type)                 Output Shape              Param #   \n",
      "=================================================================\n",
      "conv2d (Conv2D)              (None, 254, 254, 16)      448       \n",
      "_________________________________________________________________\n",
      "conv2d_1 (Conv2D)            (None, 252, 252, 16)      2320      \n",
      "_________________________________________________________________\n",
      "conv2d_2 (Conv2D)            (None, 250, 250, 16)      2320      \n",
      "_________________________________________________________________\n",
      "max_pooling2d (MaxPooling2D) (None, 125, 125, 16)      0         \n",
      "_________________________________________________________________\n",
      "conv2d_3 (Conv2D)            (None, 123, 123, 16)      2320      \n",
      "_________________________________________________________________\n",
      "conv2d_4 (Conv2D)            (None, 121, 121, 16)      2320      \n",
      "_________________________________________________________________\n",
      "conv2d_5 (Conv2D)            (None, 119, 119, 16)      2320      \n",
      "_________________________________________________________________\n",
      "max_pooling2d_1 (MaxPooling2 (None, 59, 59, 16)        0         \n",
      "_________________________________________________________________\n",
      "flatten (Flatten)            (None, 55696)             0         \n",
      "_________________________________________________________________\n",
      "dense (Dense)                (None, 512)               28516864  \n",
      "_________________________________________________________________\n",
      "dense_1 (Dense)              (None, 512)               262656    \n",
      "_________________________________________________________________\n",
      "dense_2 (Dense)              (None, 3)                 1539      \n",
      "=================================================================\n",
      "Total params: 28,793,107\n",
      "Trainable params: 28,793,107\n",
      "Non-trainable params: 0\n",
      "_________________________________________________________________\n",
      "None\n"
     ]
    }
   ],
   "source": [
    "num_filters = 16\n",
    "kernel_size = (3,3)\n",
    "lrate =.00005\n",
    "tf.keras.backend.clear_session()\n",
    "\n",
    "model = Sequential([\n",
    "    Input(shape=(256,256,3)),\n",
    "    Conv2D(filters=num_filters,kernel_size=kernel_size, activation='relu'),\n",
    "    Conv2D(filters=num_filters,kernel_size=kernel_size, activation='relu'),\n",
    "    Conv2D(filters=num_filters,kernel_size=kernel_size, activation='relu'),\n",
    "    MaxPooling2D(),\n",
    "    Conv2D(filters=num_filters,kernel_size=kernel_size, activation='relu'),\n",
    "    Conv2D(filters=num_filters,kernel_size=kernel_size, activation='relu'),\n",
    "    Conv2D(filters=num_filters,kernel_size=kernel_size, activation='relu'),\n",
    "    MaxPooling2D(),\n",
    "    Flatten(),\n",
    "    Dense(512, activation='relu'),\n",
    "    Dense(512, activation='relu'),\n",
    "    Dense(3, activation='softmax')\n",
    "])\n",
    "\n",
    "opt=tf.keras.optimizers.Adam(learning_rate=lrate,beta_1=0.9,beta_2=0.999,epsilon=None,decay=0.0,amsgrad=False)\n",
    "\n",
    "model.compile(optimizer=opt, loss='mean_absolute_error', metrics=['categorical_accuracy', tf.keras.metrics.Recall(), tf.keras.metrics.TruePositives(), tf.keras.metrics.TrueNegatives(), tf.keras.metrics.FalsePositives(), tf.keras.metrics.FalseNegatives()])\n",
    "\n",
    "print(model.summary())"
   ]
  },
  {
   "cell_type": "code",
   "execution_count": 7,
   "id": "227ca309",
   "metadata": {
    "execution": {
     "iopub.execute_input": "2023-01-23T17:46:02.773764Z",
     "iopub.status.busy": "2023-01-23T17:46:02.773349Z",
     "iopub.status.idle": "2023-01-23T18:04:30.524047Z",
     "shell.execute_reply": "2023-01-23T18:04:30.522082Z"
    },
    "papermill": {
     "duration": 1107.761976,
     "end_time": "2023-01-23T18:04:30.526889",
     "exception": false,
     "start_time": "2023-01-23T17:46:02.764913",
     "status": "completed"
    },
    "tags": []
   },
   "outputs": [
    {
     "name": "stderr",
     "output_type": "stream",
     "text": [
      "2023-01-23 17:46:02.951085: I tensorflow/compiler/mlir/mlir_graph_optimization_pass.cc:185] None of the MLIR Optimization Passes are enabled (registered 2)\n"
     ]
    },
    {
     "name": "stdout",
     "output_type": "stream",
     "text": [
      "Epoch 1/20\n",
      "251/251 [==============================] - 44s 165ms/step - loss: 0.3814 - categorical_accuracy: 0.4343 - recall: 0.4223 - true_positives: 106.0000 - true_negatives: 368.0000 - false_positives: 134.0000 - false_negatives: 145.0000 - val_loss: 0.3603 - val_categorical_accuracy: 0.4242 - val_recall: 0.4242 - val_true_positives: 28.0000 - val_true_negatives: 95.0000 - val_false_positives: 37.0000 - val_false_negatives: 38.0000\n",
      "Epoch 2/20\n",
      "251/251 [==============================] - 41s 163ms/step - loss: 0.3120 - categorical_accuracy: 0.5378 - recall: 0.5378 - true_positives: 135.0000 - true_negatives: 386.0000 - false_positives: 116.0000 - false_negatives: 116.0000 - val_loss: 0.2520 - val_categorical_accuracy: 0.6061 - val_recall: 0.6061 - val_true_positives: 40.0000 - val_true_negatives: 106.0000 - val_false_positives: 26.0000 - val_false_negatives: 26.0000\n",
      "Epoch 3/20\n",
      "251/251 [==============================] - 41s 163ms/step - loss: 0.2024 - categorical_accuracy: 0.6972 - recall: 0.6972 - true_positives: 175.0000 - true_negatives: 426.0000 - false_positives: 76.0000 - false_negatives: 76.0000 - val_loss: 0.2405 - val_categorical_accuracy: 0.6364 - val_recall: 0.6364 - val_true_positives: 42.0000 - val_true_negatives: 108.0000 - val_false_positives: 24.0000 - val_false_negatives: 24.0000\n",
      "Epoch 4/20\n",
      "251/251 [==============================] - 42s 166ms/step - loss: 0.2126 - categorical_accuracy: 0.6853 - recall: 0.6853 - true_positives: 172.0000 - true_negatives: 424.0000 - false_positives: 78.0000 - false_negatives: 79.0000 - val_loss: 0.2320 - val_categorical_accuracy: 0.6515 - val_recall: 0.6515 - val_true_positives: 43.0000 - val_true_negatives: 109.0000 - val_false_positives: 23.0000 - val_false_negatives: 23.0000\n",
      "Epoch 5/20\n",
      "251/251 [==============================] - 41s 162ms/step - loss: 0.1414 - categorical_accuracy: 0.8008 - recall: 0.8008 - true_positives: 201.0000 - true_negatives: 452.0000 - false_positives: 50.0000 - false_negatives: 50.0000 - val_loss: 0.2628 - val_categorical_accuracy: 0.6061 - val_recall: 0.6061 - val_true_positives: 40.0000 - val_true_negatives: 106.0000 - val_false_positives: 26.0000 - val_false_negatives: 26.0000\n",
      "Epoch 6/20\n",
      "251/251 [==============================] - 41s 163ms/step - loss: 0.2458 - categorical_accuracy: 0.6255 - recall: 0.6255 - true_positives: 157.0000 - true_negatives: 408.0000 - false_positives: 94.0000 - false_negatives: 94.0000 - val_loss: 0.2578 - val_categorical_accuracy: 0.6061 - val_recall: 0.6061 - val_true_positives: 40.0000 - val_true_negatives: 106.0000 - val_false_positives: 26.0000 - val_false_negatives: 26.0000\n",
      "Epoch 7/20\n",
      "251/251 [==============================] - 42s 166ms/step - loss: 0.2105 - categorical_accuracy: 0.6853 - recall: 0.6853 - true_positives: 172.0000 - true_negatives: 423.0000 - false_positives: 79.0000 - false_negatives: 79.0000 - val_loss: 0.2790 - val_categorical_accuracy: 0.5909 - val_recall: 0.5909 - val_true_positives: 39.0000 - val_true_negatives: 105.0000 - val_false_positives: 27.0000 - val_false_negatives: 27.0000\n",
      "Epoch 8/20\n",
      "251/251 [==============================] - 40s 160ms/step - loss: 0.1519 - categorical_accuracy: 0.7849 - recall: 0.7849 - true_positives: 197.0000 - true_negatives: 448.0000 - false_positives: 54.0000 - false_negatives: 54.0000 - val_loss: 0.2311 - val_categorical_accuracy: 0.6515 - val_recall: 0.6515 - val_true_positives: 43.0000 - val_true_negatives: 109.0000 - val_false_positives: 23.0000 - val_false_negatives: 23.0000\n",
      "Epoch 9/20\n",
      "251/251 [==============================] - 41s 162ms/step - loss: 0.0931 - categorical_accuracy: 0.8566 - recall: 0.8566 - true_positives: 215.0000 - true_negatives: 466.0000 - false_positives: 36.0000 - false_negatives: 36.0000 - val_loss: 0.1903 - val_categorical_accuracy: 0.7121 - val_recall: 0.7121 - val_true_positives: 47.0000 - val_true_negatives: 113.0000 - val_false_positives: 19.0000 - val_false_negatives: 19.0000\n",
      "Epoch 10/20\n",
      "251/251 [==============================] - 40s 160ms/step - loss: 0.0809 - categorical_accuracy: 0.8805 - recall: 0.8805 - true_positives: 221.0000 - true_negatives: 472.0000 - false_positives: 30.0000 - false_negatives: 30.0000 - val_loss: 0.1241 - val_categorical_accuracy: 0.8333 - val_recall: 0.8333 - val_true_positives: 55.0000 - val_true_negatives: 121.0000 - val_false_positives: 11.0000 - val_false_negatives: 11.0000\n",
      "Epoch 11/20\n",
      "251/251 [==============================] - 43s 172ms/step - loss: 0.0558 - categorical_accuracy: 0.9163 - recall: 0.9163 - true_positives: 230.0000 - true_negatives: 481.0000 - false_positives: 21.0000 - false_negatives: 21.0000 - val_loss: 0.1410 - val_categorical_accuracy: 0.7879 - val_recall: 0.7879 - val_true_positives: 52.0000 - val_true_negatives: 118.0000 - val_false_positives: 14.0000 - val_false_negatives: 14.0000\n",
      "Epoch 12/20\n",
      "251/251 [==============================] - 41s 164ms/step - loss: 0.0571 - categorical_accuracy: 0.9203 - recall: 0.9203 - true_positives: 231.0000 - true_negatives: 482.0000 - false_positives: 20.0000 - false_negatives: 20.0000 - val_loss: 0.2075 - val_categorical_accuracy: 0.6818 - val_recall: 0.6818 - val_true_positives: 45.0000 - val_true_negatives: 111.0000 - val_false_positives: 21.0000 - val_false_negatives: 21.0000\n",
      "Epoch 13/20\n",
      "251/251 [==============================] - 41s 163ms/step - loss: 0.0676 - categorical_accuracy: 0.9004 - recall: 0.9004 - true_positives: 226.0000 - true_negatives: 477.0000 - false_positives: 25.0000 - false_negatives: 25.0000 - val_loss: 0.2027 - val_categorical_accuracy: 0.6970 - val_recall: 0.6970 - val_true_positives: 46.0000 - val_true_negatives: 112.0000 - val_false_positives: 20.0000 - val_false_negatives: 20.0000\n",
      "Epoch 14/20\n",
      "251/251 [==============================] - 41s 162ms/step - loss: 0.0615 - categorical_accuracy: 0.9084 - recall: 0.9084 - true_positives: 228.0000 - true_negatives: 479.0000 - false_positives: 23.0000 - false_negatives: 23.0000 - val_loss: 0.1918 - val_categorical_accuracy: 0.7273 - val_recall: 0.7273 - val_true_positives: 48.0000 - val_true_negatives: 114.0000 - val_false_positives: 18.0000 - val_false_negatives: 18.0000\n",
      "Epoch 15/20\n",
      "251/251 [==============================] - 41s 162ms/step - loss: 0.0512 - categorical_accuracy: 0.9243 - recall: 0.9243 - true_positives: 232.0000 - true_negatives: 483.0000 - false_positives: 19.0000 - false_negatives: 19.0000 - val_loss: 0.1858 - val_categorical_accuracy: 0.7121 - val_recall: 0.7121 - val_true_positives: 47.0000 - val_true_negatives: 113.0000 - val_false_positives: 19.0000 - val_false_negatives: 19.0000\n",
      "Epoch 16/20\n",
      "251/251 [==============================] - 41s 163ms/step - loss: 0.0523 - categorical_accuracy: 0.9243 - recall: 0.9243 - true_positives: 232.0000 - true_negatives: 483.0000 - false_positives: 19.0000 - false_negatives: 19.0000 - val_loss: 0.1685 - val_categorical_accuracy: 0.7576 - val_recall: 0.7576 - val_true_positives: 50.0000 - val_true_negatives: 116.0000 - val_false_positives: 16.0000 - val_false_negatives: 16.0000\n",
      "Epoch 17/20\n",
      "251/251 [==============================] - 41s 164ms/step - loss: 0.0607 - categorical_accuracy: 0.9124 - recall: 0.9124 - true_positives: 229.0000 - true_negatives: 480.0000 - false_positives: 22.0000 - false_negatives: 22.0000 - val_loss: 0.1692 - val_categorical_accuracy: 0.7727 - val_recall: 0.7727 - val_true_positives: 51.0000 - val_true_negatives: 117.0000 - val_false_positives: 15.0000 - val_false_negatives: 15.0000\n",
      "Epoch 18/20\n",
      "251/251 [==============================] - 41s 165ms/step - loss: 0.0444 - categorical_accuracy: 0.9363 - recall: 0.9363 - true_positives: 235.0000 - true_negatives: 486.0000 - false_positives: 16.0000 - false_negatives: 16.0000 - val_loss: 0.1533 - val_categorical_accuracy: 0.7727 - val_recall: 0.7727 - val_true_positives: 51.0000 - val_true_negatives: 117.0000 - val_false_positives: 15.0000 - val_false_negatives: 15.0000\n",
      "Epoch 19/20\n",
      "251/251 [==============================] - 41s 161ms/step - loss: 0.0364 - categorical_accuracy: 0.9442 - recall: 0.9442 - true_positives: 237.0000 - true_negatives: 488.0000 - false_positives: 14.0000 - false_negatives: 14.0000 - val_loss: 0.1136 - val_categorical_accuracy: 0.8485 - val_recall: 0.8485 - val_true_positives: 56.0000 - val_true_negatives: 122.0000 - val_false_positives: 10.0000 - val_false_negatives: 10.0000\n",
      "Epoch 20/20\n",
      "251/251 [==============================] - 41s 162ms/step - loss: 0.0237 - categorical_accuracy: 0.9641 - recall: 0.9641 - true_positives: 242.0000 - true_negatives: 493.0000 - false_positives: 9.0000 - false_negatives: 9.0000 - val_loss: 0.1267 - val_categorical_accuracy: 0.8182 - val_recall: 0.8182 - val_true_positives: 54.0000 - val_true_negatives: 120.0000 - val_false_positives: 12.0000 - val_false_negatives: 12.0000\n"
     ]
    }
   ],
   "source": [
    "history = model.fit(x=train_generator, validation_data=validation_generator, epochs=20)"
   ]
  },
  {
   "cell_type": "code",
   "execution_count": 8,
   "id": "32d79cb5",
   "metadata": {
    "execution": {
     "iopub.execute_input": "2023-01-23T18:04:31.215760Z",
     "iopub.status.busy": "2023-01-23T18:04:31.215279Z",
     "iopub.status.idle": "2023-01-23T18:04:31.220941Z",
     "shell.execute_reply": "2023-01-23T18:04:31.220004Z"
    },
    "papermill": {
     "duration": 0.353355,
     "end_time": "2023-01-23T18:04:31.223789",
     "exception": false,
     "start_time": "2023-01-23T18:04:30.870434",
     "status": "completed"
    },
    "tags": []
   },
   "outputs": [],
   "source": [
    "import matplotlib.pyplot as plt"
   ]
  },
  {
   "cell_type": "code",
   "execution_count": 9,
   "id": "523aa88b",
   "metadata": {
    "execution": {
     "iopub.execute_input": "2023-01-23T18:04:31.922494Z",
     "iopub.status.busy": "2023-01-23T18:04:31.921521Z",
     "iopub.status.idle": "2023-01-23T18:04:32.359507Z",
     "shell.execute_reply": "2023-01-23T18:04:32.357986Z"
    },
    "papermill": {
     "duration": 0.787547,
     "end_time": "2023-01-23T18:04:32.362425",
     "exception": false,
     "start_time": "2023-01-23T18:04:31.574878",
     "status": "completed"
    },
    "tags": []
   },
   "outputs": [
    {
     "data": {
      "image/png": "[encoded data removed]",
      "text/plain": [
       "<Figure size 432x288 with 1 Axes>"
      ]
     },
     "metadata": {
      "needs_background": "light"
     },
     "output_type": "display_data"
    }
   ],
   "source": [
    "pd.DataFrame(history.history).plot()\n",
    "plt.show()"
   ]
  },
  {
   "cell_type": "markdown",
   "id": "60949870",
   "metadata": {
    "papermill": {
     "duration": 0.400216,
     "end_time": "2023-01-23T18:04:33.103657",
     "exception": false,
     "start_time": "2023-01-23T18:04:32.703441",
     "status": "completed"
    },
    "tags": []
   },
   "source": [
    "This model seems to be overfitting the training dataset. Adding dropout"
   ]
  },
  {
   "cell_type": "code",
   "execution_count": 10,
   "id": "06b4dba9",
   "metadata": {
    "execution": {
     "iopub.execute_input": "2023-01-23T18:04:33.849418Z",
     "iopub.status.busy": "2023-01-23T18:04:33.848651Z",
     "iopub.status.idle": "2023-01-23T18:04:34.173796Z",
     "shell.execute_reply": "2023-01-23T18:04:34.171894Z"
    },
    "papermill": {
     "duration": 0.684417,
     "end_time": "2023-01-23T18:04:34.178174",
     "exception": false,
     "start_time": "2023-01-23T18:04:33.493757",
     "status": "completed"
    },
    "tags": []
   },
   "outputs": [
    {
     "name": "stdout",
     "output_type": "stream",
     "text": [
      "Model: \"sequential\"\n",
      "_________________________________________________________________\n",
      "Layer (type)                 Output Shape              Param #   \n",
      "=================================================================\n",
      "conv2d (Conv2D)              (None, 254, 254, 16)      448       \n",
      "_________________________________________________________________\n",
      "conv2d_1 (Conv2D)            (None, 252, 252, 16)      2320      \n",
      "_________________________________________________________________\n",
      "conv2d_2 (Conv2D)            (None, 250, 250, 16)      2320      \n",
      "_________________________________________________________________\n",
      "max_pooling2d (MaxPooling2D) (None, 125, 125, 16)      0         \n",
      "_________________________________________________________________\n",
      "conv2d_3 (Conv2D)            (None, 123, 123, 16)      2320      \n",
      "_________________________________________________________________\n",
      "conv2d_4 (Conv2D)            (None, 121, 121, 16)      2320      \n",
      "_________________________________________________________________\n",
      "conv2d_5 (Conv2D)            (None, 119, 119, 16)      2320      \n",
      "_________________________________________________________________\n",
      "max_pooling2d_1 (MaxPooling2 (None, 59, 59, 16)        0         \n",
      "_________________________________________________________________\n",
      "flatten (Flatten)            (None, 55696)             0         \n",
      "_________________________________________________________________\n",
      "dense (Dense)                (None, 512)               28516864  \n",
      "_________________________________________________________________\n",
      "dropout (Dropout)            (None, 512)               0         \n",
      "_________________________________________________________________\n",
      "dense_1 (Dense)              (None, 512)               262656    \n",
      "_________________________________________________________________\n",
      "dense_2 (Dense)              (None, 3)                 1539      \n",
      "=================================================================\n",
      "Total params: 28,793,107\n",
      "Trainable params: 28,793,107\n",
      "Non-trainable params: 0\n",
      "_________________________________________________________________\n",
      "None\n"
     ]
    }
   ],
   "source": [
    "num_filters = 16\n",
    "kernel_size = (3,3)\n",
    "lrate =.00005\n",
    "tf.keras.backend.clear_session()\n",
    "\n",
    "model_2 = Sequential([\n",
    "    Input(shape=(256,256,3)),\n",
    "    Conv2D(filters=num_filters,kernel_size=kernel_size, activation='relu'),\n",
    "    Conv2D(filters=num_filters,kernel_size=kernel_size, activation='relu'),\n",
    "    Conv2D(filters=num_filters,kernel_size=kernel_size, activation='relu'),\n",
    "    MaxPooling2D(),\n",
    "    Conv2D(filters=num_filters,kernel_size=kernel_size, activation='relu'),\n",
    "    Conv2D(filters=num_filters,kernel_size=kernel_size, activation='relu'),\n",
    "    Conv2D(filters=num_filters,kernel_size=kernel_size, activation='relu'),\n",
    "    MaxPooling2D(),\n",
    "    Flatten(),\n",
    "    Dense(512, activation='relu'),\n",
    "    Dropout(.3),\n",
    "    Dense(512, activation='relu'),\n",
    "    Dense(3, activation='softmax')\n",
    "])\n",
    "\n",
    "opt=tf.keras.optimizers.Adam(learning_rate=lrate,beta_1=0.9,beta_2=0.999,epsilon=None,decay=0.0,amsgrad=False)\n",
    "\n",
    "model_2.compile(optimizer=opt, loss='mean_absolute_error', metrics=['categorical_accuracy', tf.keras.metrics.Recall(), tf.keras.metrics.TruePositives(), tf.keras.metrics.TrueNegatives(), tf.keras.metrics.FalsePositives(), tf.keras.metrics.FalseNegatives()])\n",
    "\n",
    "print(model_2.summary())"
   ]
  },
  {
   "cell_type": "code",
   "execution_count": 11,
   "id": "c1bf8158",
   "metadata": {
    "execution": {
     "iopub.execute_input": "2023-01-23T18:04:34.898556Z",
     "iopub.status.busy": "2023-01-23T18:04:34.898055Z",
     "iopub.status.idle": "2023-01-23T18:21:00.311290Z",
     "shell.execute_reply": "2023-01-23T18:21:00.309891Z"
    },
    "papermill": {
     "duration": 985.763479,
     "end_time": "2023-01-23T18:21:00.314183",
     "exception": false,
     "start_time": "2023-01-23T18:04:34.550704",
     "status": "completed"
    },
    "tags": []
   },
   "outputs": [
    {
     "name": "stdout",
     "output_type": "stream",
     "text": [
      "Epoch 1/20\n",
      "251/251 [==============================] - 47s 178ms/step - loss: 0.3772 - categorical_accuracy: 0.4462 - recall: 0.4263 - true_positives: 107.0000 - true_negatives: 374.0000 - false_positives: 128.0000 - false_negatives: 144.0000 - val_loss: 0.2727 - val_categorical_accuracy: 0.6515 - val_recall: 0.6515 - val_true_positives: 43.0000 - val_true_negatives: 109.0000 - val_false_positives: 23.0000 - val_false_negatives: 23.0000\n",
      "Epoch 2/20\n",
      "251/251 [==============================] - 43s 172ms/step - loss: 0.2184 - categorical_accuracy: 0.6853 - recall: 0.6853 - true_positives: 172.0000 - true_negatives: 423.0000 - false_positives: 79.0000 - false_negatives: 79.0000 - val_loss: 0.2632 - val_categorical_accuracy: 0.6061 - val_recall: 0.6061 - val_true_positives: 40.0000 - val_true_negatives: 106.0000 - val_false_positives: 26.0000 - val_false_negatives: 26.0000\n",
      "Epoch 3/20\n",
      "251/251 [==============================] - 43s 172ms/step - loss: 0.2091 - categorical_accuracy: 0.6892 - recall: 0.6892 - true_positives: 173.0000 - true_negatives: 424.0000 - false_positives: 78.0000 - false_negatives: 78.0000 - val_loss: 0.2437 - val_categorical_accuracy: 0.6212 - val_recall: 0.6212 - val_true_positives: 41.0000 - val_true_negatives: 107.0000 - val_false_positives: 25.0000 - val_false_negatives: 25.0000\n",
      "Epoch 4/20\n",
      "251/251 [==============================] - 43s 170ms/step - loss: 0.2150 - categorical_accuracy: 0.6853 - recall: 0.6853 - true_positives: 172.0000 - true_negatives: 423.0000 - false_positives: 79.0000 - false_negatives: 79.0000 - val_loss: 0.2299 - val_categorical_accuracy: 0.6515 - val_recall: 0.6515 - val_true_positives: 43.0000 - val_true_negatives: 109.0000 - val_false_positives: 23.0000 - val_false_negatives: 23.0000\n",
      "Epoch 5/20\n",
      "251/251 [==============================] - 42s 168ms/step - loss: 0.2009 - categorical_accuracy: 0.7012 - recall: 0.7012 - true_positives: 176.0000 - true_negatives: 427.0000 - false_positives: 75.0000 - false_negatives: 75.0000 - val_loss: 0.2824 - val_categorical_accuracy: 0.5758 - val_recall: 0.5758 - val_true_positives: 38.0000 - val_true_negatives: 104.0000 - val_false_positives: 28.0000 - val_false_negatives: 28.0000\n",
      "Epoch 6/20\n",
      "251/251 [==============================] - 43s 169ms/step - loss: 0.1976 - categorical_accuracy: 0.7052 - recall: 0.7052 - true_positives: 177.0000 - true_negatives: 428.0000 - false_positives: 74.0000 - false_negatives: 74.0000 - val_loss: 0.2283 - val_categorical_accuracy: 0.6515 - val_recall: 0.6515 - val_true_positives: 43.0000 - val_true_negatives: 109.0000 - val_false_positives: 23.0000 - val_false_negatives: 23.0000\n",
      "Epoch 7/20\n",
      "251/251 [==============================] - 42s 167ms/step - loss: 0.1974 - categorical_accuracy: 0.7052 - recall: 0.7052 - true_positives: 177.0000 - true_negatives: 428.0000 - false_positives: 74.0000 - false_negatives: 74.0000 - val_loss: 0.2316 - val_categorical_accuracy: 0.6515 - val_recall: 0.6515 - val_true_positives: 43.0000 - val_true_negatives: 109.0000 - val_false_positives: 23.0000 - val_false_negatives: 23.0000\n",
      "Epoch 8/20\n",
      "251/251 [==============================] - 43s 173ms/step - loss: 0.2004 - categorical_accuracy: 0.7052 - recall: 0.7052 - true_positives: 177.0000 - true_negatives: 428.0000 - false_positives: 74.0000 - false_negatives: 74.0000 - val_loss: 0.2393 - val_categorical_accuracy: 0.6364 - val_recall: 0.6364 - val_true_positives: 42.0000 - val_true_negatives: 108.0000 - val_false_positives: 24.0000 - val_false_negatives: 24.0000\n",
      "Epoch 9/20\n",
      "251/251 [==============================] - 43s 171ms/step - loss: 0.1970 - categorical_accuracy: 0.7092 - recall: 0.7092 - true_positives: 178.0000 - true_negatives: 429.0000 - false_positives: 73.0000 - false_negatives: 73.0000 - val_loss: 0.2357 - val_categorical_accuracy: 0.6515 - val_recall: 0.6515 - val_true_positives: 43.0000 - val_true_negatives: 109.0000 - val_false_positives: 23.0000 - val_false_negatives: 23.0000\n",
      "Epoch 10/20\n",
      "251/251 [==============================] - 44s 175ms/step - loss: 0.1969 - categorical_accuracy: 0.7092 - recall: 0.7092 - true_positives: 178.0000 - true_negatives: 430.0000 - false_positives: 72.0000 - false_negatives: 73.0000 - val_loss: 0.2336 - val_categorical_accuracy: 0.6364 - val_recall: 0.6364 - val_true_positives: 42.0000 - val_true_negatives: 108.0000 - val_false_positives: 24.0000 - val_false_negatives: 24.0000\n",
      "Epoch 11/20\n",
      "251/251 [==============================] - 43s 170ms/step - loss: 0.1938 - categorical_accuracy: 0.7092 - recall: 0.7092 - true_positives: 178.0000 - true_negatives: 429.0000 - false_positives: 73.0000 - false_negatives: 73.0000 - val_loss: 0.2384 - val_categorical_accuracy: 0.6364 - val_recall: 0.6364 - val_true_positives: 42.0000 - val_true_negatives: 108.0000 - val_false_positives: 24.0000 - val_false_negatives: 24.0000\n",
      "Epoch 12/20\n",
      "251/251 [==============================] - 43s 170ms/step - loss: 0.1704 - categorical_accuracy: 0.7450 - recall: 0.7450 - true_positives: 187.0000 - true_negatives: 438.0000 - false_positives: 64.0000 - false_negatives: 64.0000 - val_loss: 0.2051 - val_categorical_accuracy: 0.6667 - val_recall: 0.6667 - val_true_positives: 44.0000 - val_true_negatives: 110.0000 - val_false_positives: 22.0000 - val_false_negatives: 22.0000\n",
      "Epoch 13/20\n",
      "251/251 [==============================] - 43s 173ms/step - loss: 0.1142 - categorical_accuracy: 0.8526 - recall: 0.8526 - true_positives: 214.0000 - true_negatives: 465.0000 - false_positives: 37.0000 - false_negatives: 37.0000 - val_loss: 0.1799 - val_categorical_accuracy: 0.7424 - val_recall: 0.7424 - val_true_positives: 49.0000 - val_true_negatives: 115.0000 - val_false_positives: 17.0000 - val_false_negatives: 17.0000\n",
      "Epoch 14/20\n",
      "251/251 [==============================] - 43s 172ms/step - loss: 0.0767 - categorical_accuracy: 0.8805 - recall: 0.8805 - true_positives: 221.0000 - true_negatives: 472.0000 - false_positives: 30.0000 - false_negatives: 30.0000 - val_loss: 0.2048 - val_categorical_accuracy: 0.6970 - val_recall: 0.6818 - val_true_positives: 45.0000 - val_true_negatives: 112.0000 - val_false_positives: 20.0000 - val_false_negatives: 21.0000\n",
      "Epoch 15/20\n",
      "251/251 [==============================] - 43s 169ms/step - loss: 0.1192 - categorical_accuracy: 0.8207 - recall: 0.8207 - true_positives: 206.0000 - true_negatives: 457.0000 - false_positives: 45.0000 - false_negatives: 45.0000 - val_loss: 0.1536 - val_categorical_accuracy: 0.7727 - val_recall: 0.7727 - val_true_positives: 51.0000 - val_true_negatives: 117.0000 - val_false_positives: 15.0000 - val_false_negatives: 15.0000\n",
      "Epoch 16/20\n",
      "251/251 [==============================] - 44s 174ms/step - loss: 0.0845 - categorical_accuracy: 0.8765 - recall: 0.8765 - true_positives: 220.0000 - true_negatives: 471.0000 - false_positives: 31.0000 - false_negatives: 31.0000 - val_loss: 0.1954 - val_categorical_accuracy: 0.7121 - val_recall: 0.7121 - val_true_positives: 47.0000 - val_true_negatives: 113.0000 - val_false_positives: 19.0000 - val_false_negatives: 19.0000\n",
      "Epoch 17/20\n",
      "251/251 [==============================] - 43s 173ms/step - loss: 0.0648 - categorical_accuracy: 0.9044 - recall: 0.9044 - true_positives: 227.0000 - true_negatives: 478.0000 - false_positives: 24.0000 - false_negatives: 24.0000 - val_loss: 0.1099 - val_categorical_accuracy: 0.8333 - val_recall: 0.8333 - val_true_positives: 55.0000 - val_true_negatives: 121.0000 - val_false_positives: 11.0000 - val_false_negatives: 11.0000\n",
      "Epoch 18/20\n",
      "251/251 [==============================] - 44s 173ms/step - loss: 0.0579 - categorical_accuracy: 0.9203 - recall: 0.9203 - true_positives: 231.0000 - true_negatives: 482.0000 - false_positives: 20.0000 - false_negatives: 20.0000 - val_loss: 0.1573 - val_categorical_accuracy: 0.7727 - val_recall: 0.7727 - val_true_positives: 51.0000 - val_true_negatives: 117.0000 - val_false_positives: 15.0000 - val_false_negatives: 15.0000\n",
      "Epoch 19/20\n",
      "251/251 [==============================] - 45s 178ms/step - loss: 0.0628 - categorical_accuracy: 0.9044 - recall: 0.9044 - true_positives: 227.0000 - true_negatives: 478.0000 - false_positives: 24.0000 - false_negatives: 24.0000 - val_loss: 0.1414 - val_categorical_accuracy: 0.7879 - val_recall: 0.7879 - val_true_positives: 52.0000 - val_true_negatives: 118.0000 - val_false_positives: 14.0000 - val_false_negatives: 14.0000\n",
      "Epoch 20/20\n",
      "251/251 [==============================] - 45s 180ms/step - loss: 0.0576 - categorical_accuracy: 0.9243 - recall: 0.9243 - true_positives: 232.0000 - true_negatives: 483.0000 - false_positives: 19.0000 - false_negatives: 19.0000 - val_loss: 0.0996 - val_categorical_accuracy: 0.8485 - val_recall: 0.8485 - val_true_positives: 56.0000 - val_true_negatives: 122.0000 - val_false_positives: 10.0000 - val_false_negatives: 10.0000\n"
     ]
    }
   ],
   "source": [
    "history_2 = model_2.fit(x=train_generator, validation_data=validation_generator, epochs=20)"
   ]
  },
  {
   "cell_type": "code",
   "execution_count": 12,
   "id": "98fd585b",
   "metadata": {
    "execution": {
     "iopub.execute_input": "2023-01-23T18:21:01.724440Z",
     "iopub.status.busy": "2023-01-23T18:21:01.723388Z",
     "iopub.status.idle": "2023-01-23T18:21:02.092934Z",
     "shell.execute_reply": "2023-01-23T18:21:02.091544Z"
    },
    "papermill": {
     "duration": 1.07511,
     "end_time": "2023-01-23T18:21:02.096206",
     "exception": false,
     "start_time": "2023-01-23T18:21:01.021096",
     "status": "completed"
    },
    "tags": []
   },
   "outputs": [
    {
     "data": {
      "image/png": "[encoded data removed]",
      "text/plain": [
       "<Figure size 432x288 with 1 Axes>"
      ]
     },
     "metadata": {
      "needs_background": "light"
     },
     "output_type": "display_data"
    }
   ],
   "source": [
    "pd.DataFrame(history_2.history).plot()\n",
    "plt.show()"
   ]
  },
  {
   "cell_type": "code",
   "execution_count": 13,
   "id": "3a353001",
   "metadata": {
    "execution": {
     "iopub.execute_input": "2023-01-23T18:21:03.652983Z",
     "iopub.status.busy": "2023-01-23T18:21:03.652048Z",
     "iopub.status.idle": "2023-01-23T18:21:03.955656Z",
     "shell.execute_reply": "2023-01-23T18:21:03.953471Z"
    },
    "papermill": {
     "duration": 1.053807,
     "end_time": "2023-01-23T18:21:03.959365",
     "exception": false,
     "start_time": "2023-01-23T18:21:02.905558",
     "status": "completed"
    },
    "tags": []
   },
   "outputs": [
    {
     "name": "stdout",
     "output_type": "stream",
     "text": [
      "Model: \"sequential\"\n",
      "_________________________________________________________________\n",
      "Layer (type)                 Output Shape              Param #   \n",
      "=================================================================\n",
      "conv2d (Conv2D)              (None, 254, 254, 16)      448       \n",
      "_________________________________________________________________\n",
      "conv2d_1 (Conv2D)            (None, 252, 252, 16)      2320      \n",
      "_________________________________________________________________\n",
      "conv2d_2 (Conv2D)            (None, 250, 250, 16)      2320      \n",
      "_________________________________________________________________\n",
      "max_pooling2d (MaxPooling2D) (None, 125, 125, 16)      0         \n",
      "_________________________________________________________________\n",
      "conv2d_3 (Conv2D)            (None, 123, 123, 16)      2320      \n",
      "_________________________________________________________________\n",
      "conv2d_4 (Conv2D)            (None, 121, 121, 16)      2320      \n",
      "_________________________________________________________________\n",
      "conv2d_5 (Conv2D)            (None, 119, 119, 16)      2320      \n",
      "_________________________________________________________________\n",
      "max_pooling2d_1 (MaxPooling2 (None, 59, 59, 16)        0         \n",
      "_________________________________________________________________\n",
      "flatten (Flatten)            (None, 55696)             0         \n",
      "_________________________________________________________________\n",
      "dense (Dense)                (None, 512)               28516864  \n",
      "_________________________________________________________________\n",
      "dropout (Dropout)            (None, 512)               0         \n",
      "_________________________________________________________________\n",
      "dense_1 (Dense)              (None, 512)               262656    \n",
      "_________________________________________________________________\n",
      "dropout_1 (Dropout)          (None, 512)               0         \n",
      "_________________________________________________________________\n",
      "dense_2 (Dense)              (None, 512)               262656    \n",
      "_________________________________________________________________\n",
      "dense_3 (Dense)              (None, 3)                 1539      \n",
      "=================================================================\n",
      "Total params: 29,055,763\n",
      "Trainable params: 29,055,763\n",
      "Non-trainable params: 0\n",
      "_________________________________________________________________\n",
      "None\n"
     ]
    }
   ],
   "source": [
    "num_filters = 16\n",
    "kernel_size = (3,3)\n",
    "lrate =.0005\n",
    "tf.keras.backend.clear_session()\n",
    "\n",
    "model_3 = Sequential([\n",
    "    Input(shape=(256,256,3)),\n",
    "    Conv2D(filters=num_filters,kernel_size=kernel_size, activation='relu'),\n",
    "    Conv2D(filters=num_filters,kernel_size=kernel_size, activation='relu'),\n",
    "    Conv2D(filters=num_filters,kernel_size=kernel_size, activation='relu'),\n",
    "    MaxPooling2D(),\n",
    "    Conv2D(filters=num_filters,kernel_size=kernel_size, activation='relu'),\n",
    "    Conv2D(filters=num_filters,kernel_size=kernel_size, activation='relu'),\n",
    "    Conv2D(filters=num_filters,kernel_size=kernel_size, activation='relu'),\n",
    "    MaxPooling2D(),\n",
    "    Flatten(),\n",
    "    Dense(512, activation='relu'),\n",
    "    Dropout(.3),\n",
    "    Dense(512, activation='relu'),\n",
    "    Dropout(.3),\n",
    "    Dense(512, activation='relu'),\n",
    "    Dense(3, activation='softmax')\n",
    "])\n",
    "\n",
    "opt=tf.keras.optimizers.Adam(learning_rate=lrate,beta_1=0.9,beta_2=0.999,epsilon=None,decay=0.0,amsgrad=False)\n",
    "\n",
    "model_3.compile(optimizer=opt, loss='mean_absolute_error', metrics=['categorical_accuracy', tf.keras.metrics.Recall(), tf.keras.metrics.TruePositives(), tf.keras.metrics.TrueNegatives(), tf.keras.metrics.FalsePositives(), tf.keras.metrics.FalseNegatives()])\n",
    "\n",
    "print(model_3.summary())"
   ]
  },
  {
   "cell_type": "code",
   "execution_count": 14,
   "id": "908d5bae",
   "metadata": {
    "execution": {
     "iopub.execute_input": "2023-01-23T18:21:05.477960Z",
     "iopub.status.busy": "2023-01-23T18:21:05.477043Z",
     "iopub.status.idle": "2023-01-23T18:36:23.332287Z",
     "shell.execute_reply": "2023-01-23T18:36:23.330516Z"
    },
    "papermill": {
     "duration": 918.566135,
     "end_time": "2023-01-23T18:36:23.335453",
     "exception": false,
     "start_time": "2023-01-23T18:21:04.769318",
     "status": "completed"
    },
    "tags": []
   },
   "outputs": [
    {
     "name": "stdout",
     "output_type": "stream",
     "text": [
      "Epoch 1/20\n",
      "251/251 [==============================] - 46s 173ms/step - loss: 0.3743 - categorical_accuracy: 0.4382 - recall: 0.4343 - true_positives: 109.0000 - true_negatives: 362.0000 - false_positives: 140.0000 - false_negatives: 142.0000 - val_loss: 0.4040 - val_categorical_accuracy: 0.3939 - val_recall: 0.3939 - val_true_positives: 26.0000 - val_true_negatives: 92.0000 - val_false_positives: 40.0000 - val_false_negatives: 40.0000\n",
      "Epoch 2/20\n",
      "251/251 [==============================] - 42s 167ms/step - loss: 0.3718 - categorical_accuracy: 0.4422 - recall: 0.4422 - true_positives: 111.0000 - true_negatives: 362.0000 - false_positives: 140.0000 - false_negatives: 140.0000 - val_loss: 0.4040 - val_categorical_accuracy: 0.3939 - val_recall: 0.3939 - val_true_positives: 26.0000 - val_true_negatives: 92.0000 - val_false_positives: 40.0000 - val_false_negatives: 40.0000\n",
      "Epoch 3/20\n",
      "251/251 [==============================] - 42s 167ms/step - loss: 0.3718 - categorical_accuracy: 0.4422 - recall: 0.4422 - true_positives: 111.0000 - true_negatives: 362.0000 - false_positives: 140.0000 - false_negatives: 140.0000 - val_loss: 0.4040 - val_categorical_accuracy: 0.3939 - val_recall: 0.3939 - val_true_positives: 26.0000 - val_true_negatives: 92.0000 - val_false_positives: 40.0000 - val_false_negatives: 40.0000\n",
      "Epoch 4/20\n",
      "251/251 [==============================] - 42s 165ms/step - loss: 0.3718 - categorical_accuracy: 0.4422 - recall: 0.4422 - true_positives: 111.0000 - true_negatives: 362.0000 - false_positives: 140.0000 - false_negatives: 140.0000 - val_loss: 0.4040 - val_categorical_accuracy: 0.3939 - val_recall: 0.3939 - val_true_positives: 26.0000 - val_true_negatives: 92.0000 - val_false_positives: 40.0000 - val_false_negatives: 40.0000\n",
      "Epoch 5/20\n",
      "251/251 [==============================] - 41s 162ms/step - loss: 0.3718 - categorical_accuracy: 0.4422 - recall: 0.4422 - true_positives: 111.0000 - true_negatives: 362.0000 - false_positives: 140.0000 - false_negatives: 140.0000 - val_loss: 0.4040 - val_categorical_accuracy: 0.3939 - val_recall: 0.3939 - val_true_positives: 26.0000 - val_true_negatives: 92.0000 - val_false_positives: 40.0000 - val_false_negatives: 40.0000\n",
      "Epoch 6/20\n",
      "251/251 [==============================] - 41s 163ms/step - loss: 0.3718 - categorical_accuracy: 0.4422 - recall: 0.4422 - true_positives: 111.0000 - true_negatives: 362.0000 - false_positives: 140.0000 - false_negatives: 140.0000 - val_loss: 0.4040 - val_categorical_accuracy: 0.3939 - val_recall: 0.3939 - val_true_positives: 26.0000 - val_true_negatives: 92.0000 - val_false_positives: 40.0000 - val_false_negatives: 40.0000\n",
      "Epoch 7/20\n",
      "251/251 [==============================] - 41s 163ms/step - loss: 0.3718 - categorical_accuracy: 0.4422 - recall: 0.4422 - true_positives: 111.0000 - true_negatives: 362.0000 - false_positives: 140.0000 - false_negatives: 140.0000 - val_loss: 0.4040 - val_categorical_accuracy: 0.3939 - val_recall: 0.3939 - val_true_positives: 26.0000 - val_true_negatives: 92.0000 - val_false_positives: 40.0000 - val_false_negatives: 40.0000\n",
      "Epoch 8/20\n",
      "251/251 [==============================] - 41s 163ms/step - loss: 0.3718 - categorical_accuracy: 0.4422 - recall: 0.4422 - true_positives: 111.0000 - true_negatives: 362.0000 - false_positives: 140.0000 - false_negatives: 140.0000 - val_loss: 0.4040 - val_categorical_accuracy: 0.3939 - val_recall: 0.3939 - val_true_positives: 26.0000 - val_true_negatives: 92.0000 - val_false_positives: 40.0000 - val_false_negatives: 40.0000\n",
      "Epoch 9/20\n",
      "251/251 [==============================] - 41s 165ms/step - loss: 0.3718 - categorical_accuracy: 0.4422 - recall: 0.4422 - true_positives: 111.0000 - true_negatives: 362.0000 - false_positives: 140.0000 - false_negatives: 140.0000 - val_loss: 0.4040 - val_categorical_accuracy: 0.3939 - val_recall: 0.3939 - val_true_positives: 26.0000 - val_true_negatives: 92.0000 - val_false_positives: 40.0000 - val_false_negatives: 40.0000\n",
      "Epoch 10/20\n",
      "251/251 [==============================] - 42s 169ms/step - loss: 0.3718 - categorical_accuracy: 0.4422 - recall: 0.4422 - true_positives: 111.0000 - true_negatives: 362.0000 - false_positives: 140.0000 - false_negatives: 140.0000 - val_loss: 0.4040 - val_categorical_accuracy: 0.3939 - val_recall: 0.3939 - val_true_positives: 26.0000 - val_true_negatives: 92.0000 - val_false_positives: 40.0000 - val_false_negatives: 40.0000\n",
      "Epoch 11/20\n",
      "251/251 [==============================] - 42s 167ms/step - loss: 0.3718 - categorical_accuracy: 0.4422 - recall: 0.4422 - true_positives: 111.0000 - true_negatives: 362.0000 - false_positives: 140.0000 - false_negatives: 140.0000 - val_loss: 0.4040 - val_categorical_accuracy: 0.3939 - val_recall: 0.3939 - val_true_positives: 26.0000 - val_true_negatives: 92.0000 - val_false_positives: 40.0000 - val_false_negatives: 40.0000\n",
      "Epoch 12/20\n",
      "251/251 [==============================] - 42s 167ms/step - loss: 0.3718 - categorical_accuracy: 0.4422 - recall: 0.4422 - true_positives: 111.0000 - true_negatives: 362.0000 - false_positives: 140.0000 - false_negatives: 140.0000 - val_loss: 0.4040 - val_categorical_accuracy: 0.3939 - val_recall: 0.3939 - val_true_positives: 26.0000 - val_true_negatives: 92.0000 - val_false_positives: 40.0000 - val_false_negatives: 40.0000\n",
      "Epoch 13/20\n",
      "251/251 [==============================] - 42s 166ms/step - loss: 0.3718 - categorical_accuracy: 0.4422 - recall: 0.4422 - true_positives: 111.0000 - true_negatives: 362.0000 - false_positives: 140.0000 - false_negatives: 140.0000 - val_loss: 0.4040 - val_categorical_accuracy: 0.3939 - val_recall: 0.3939 - val_true_positives: 26.0000 - val_true_negatives: 92.0000 - val_false_positives: 40.0000 - val_false_negatives: 40.0000\n",
      "Epoch 14/20\n",
      "251/251 [==============================] - 41s 165ms/step - loss: 0.3718 - categorical_accuracy: 0.4422 - recall: 0.4422 - true_positives: 111.0000 - true_negatives: 362.0000 - false_positives: 140.0000 - false_negatives: 140.0000 - val_loss: 0.4040 - val_categorical_accuracy: 0.3939 - val_recall: 0.3939 - val_true_positives: 26.0000 - val_true_negatives: 92.0000 - val_false_positives: 40.0000 - val_false_negatives: 40.0000\n",
      "Epoch 15/20\n",
      "251/251 [==============================] - 42s 169ms/step - loss: 0.3718 - categorical_accuracy: 0.4422 - recall: 0.4422 - true_positives: 111.0000 - true_negatives: 362.0000 - false_positives: 140.0000 - false_negatives: 140.0000 - val_loss: 0.4040 - val_categorical_accuracy: 0.3939 - val_recall: 0.3939 - val_true_positives: 26.0000 - val_true_negatives: 92.0000 - val_false_positives: 40.0000 - val_false_negatives: 40.0000\n",
      "Epoch 16/20\n",
      "251/251 [==============================] - 41s 164ms/step - loss: 0.3718 - categorical_accuracy: 0.4422 - recall: 0.4422 - true_positives: 111.0000 - true_negatives: 362.0000 - false_positives: 140.0000 - false_negatives: 140.0000 - val_loss: 0.4040 - val_categorical_accuracy: 0.3939 - val_recall: 0.3939 - val_true_positives: 26.0000 - val_true_negatives: 92.0000 - val_false_positives: 40.0000 - val_false_negatives: 40.0000\n",
      "Epoch 17/20\n",
      "251/251 [==============================] - 42s 167ms/step - loss: 0.3718 - categorical_accuracy: 0.4422 - recall: 0.4422 - true_positives: 111.0000 - true_negatives: 362.0000 - false_positives: 140.0000 - false_negatives: 140.0000 - val_loss: 0.4040 - val_categorical_accuracy: 0.3939 - val_recall: 0.3939 - val_true_positives: 26.0000 - val_true_negatives: 92.0000 - val_false_positives: 40.0000 - val_false_negatives: 40.0000\n",
      "Epoch 18/20\n",
      "251/251 [==============================] - 43s 171ms/step - loss: 0.3718 - categorical_accuracy: 0.4422 - recall: 0.4422 - true_positives: 111.0000 - true_negatives: 362.0000 - false_positives: 140.0000 - false_negatives: 140.0000 - val_loss: 0.4040 - val_categorical_accuracy: 0.3939 - val_recall: 0.3939 - val_true_positives: 26.0000 - val_true_negatives: 92.0000 - val_false_positives: 40.0000 - val_false_negatives: 40.0000\n",
      "Epoch 19/20\n",
      "251/251 [==============================] - 42s 167ms/step - loss: 0.3718 - categorical_accuracy: 0.4422 - recall: 0.4422 - true_positives: 111.0000 - true_negatives: 362.0000 - false_positives: 140.0000 - false_negatives: 140.0000 - val_loss: 0.4040 - val_categorical_accuracy: 0.3939 - val_recall: 0.3939 - val_true_positives: 26.0000 - val_true_negatives: 92.0000 - val_false_positives: 40.0000 - val_false_negatives: 40.0000\n",
      "Epoch 20/20\n",
      "251/251 [==============================] - 42s 166ms/step - loss: 0.3718 - categorical_accuracy: 0.4422 - recall: 0.4422 - true_positives: 111.0000 - true_negatives: 362.0000 - false_positives: 140.0000 - false_negatives: 140.0000 - val_loss: 0.4040 - val_categorical_accuracy: 0.3939 - val_recall: 0.3939 - val_true_positives: 26.0000 - val_true_negatives: 92.0000 - val_false_positives: 40.0000 - val_false_negatives: 40.0000\n"
     ]
    }
   ],
   "source": [
    "history_3 = model_3.fit(x=train_generator, validation_data=validation_generator, epochs=20)"
   ]
  },
  {
   "cell_type": "markdown",
   "id": "3116fb11",
   "metadata": {
    "papermill": {
     "duration": 1.061329,
     "end_time": "2023-01-23T18:36:25.651640",
     "exception": false,
     "start_time": "2023-01-23T18:36:24.590311",
     "status": "completed"
    },
    "tags": []
   },
   "source": [
    "Adding padding "
   ]
  },
  {
   "cell_type": "code",
   "execution_count": 15,
   "id": "c4a866a5",
   "metadata": {
    "execution": {
     "iopub.execute_input": "2023-01-23T18:36:27.913916Z",
     "iopub.status.busy": "2023-01-23T18:36:27.913393Z",
     "iopub.status.idle": "2023-01-23T18:36:28.435493Z",
     "shell.execute_reply": "2023-01-23T18:36:28.433466Z"
    },
    "papermill": {
     "duration": 1.599709,
     "end_time": "2023-01-23T18:36:28.438377",
     "exception": false,
     "start_time": "2023-01-23T18:36:26.838668",
     "status": "completed"
    },
    "tags": []
   },
   "outputs": [
    {
     "name": "stdout",
     "output_type": "stream",
     "text": [
      "Model: \"sequential\"\n",
      "_________________________________________________________________\n",
      "Layer (type)                 Output Shape              Param #   \n",
      "=================================================================\n",
      "conv2d (Conv2D)              (None, 256, 256, 16)      448       \n",
      "_________________________________________________________________\n",
      "conv2d_1 (Conv2D)            (None, 256, 256, 16)      2320      \n",
      "_________________________________________________________________\n",
      "conv2d_2 (Conv2D)            (None, 256, 256, 16)      2320      \n",
      "_________________________________________________________________\n",
      "max_pooling2d (MaxPooling2D) (None, 128, 128, 16)      0         \n",
      "_________________________________________________________________\n",
      "conv2d_3 (Conv2D)            (None, 128, 128, 16)      2320      \n",
      "_________________________________________________________________\n",
      "conv2d_4 (Conv2D)            (None, 128, 128, 16)      2320      \n",
      "_________________________________________________________________\n",
      "conv2d_5 (Conv2D)            (None, 128, 128, 16)      2320      \n",
      "_________________________________________________________________\n",
      "max_pooling2d_1 (MaxPooling2 (None, 64, 64, 16)        0         \n",
      "_________________________________________________________________\n",
      "flatten (Flatten)            (None, 65536)             0         \n",
      "_________________________________________________________________\n",
      "dense (Dense)                (None, 512)               33554944  \n",
      "_________________________________________________________________\n",
      "dropout (Dropout)            (None, 512)               0         \n",
      "_________________________________________________________________\n",
      "dense_1 (Dense)              (None, 512)               262656    \n",
      "_________________________________________________________________\n",
      "dense_2 (Dense)              (None, 3)                 1539      \n",
      "=================================================================\n",
      "Total params: 33,831,187\n",
      "Trainable params: 33,831,187\n",
      "Non-trainable params: 0\n",
      "_________________________________________________________________\n",
      "None\n"
     ]
    }
   ],
   "source": [
    "num_filters = 16\n",
    "kernel_size = (3,3)\n",
    "lrate =.00005\n",
    "padding = 'same'\n",
    "tf.keras.backend.clear_session()\n",
    "\n",
    "model_4 = Sequential([\n",
    "    Input(shape=(256,256,3)),\n",
    "    Conv2D(filters=num_filters,kernel_size=kernel_size, padding=padding, activation='relu'),\n",
    "    Conv2D(filters=num_filters,kernel_size=kernel_size, padding=padding, activation='relu'),\n",
    "    Conv2D(filters=num_filters,kernel_size=kernel_size, padding=padding, activation='relu'),\n",
    "    MaxPooling2D(),\n",
    "    Conv2D(filters=num_filters,kernel_size=kernel_size, padding=padding, activation='relu'),\n",
    "    Conv2D(filters=num_filters,kernel_size=kernel_size, padding=padding, activation='relu'),\n",
    "    Conv2D(filters=num_filters,kernel_size=kernel_size, padding=padding, activation='relu'),\n",
    "    MaxPooling2D(),\n",
    "    Flatten(),\n",
    "    Dense(512, activation='relu'),\n",
    "    Dropout(.3),\n",
    "    Dense(512, activation='relu'),\n",
    "    Dense(3, activation='softmax')\n",
    "])\n",
    "\n",
    "opt=tf.keras.optimizers.Adam(learning_rate=lrate,beta_1=0.9,beta_2=0.999,epsilon=None,decay=0.0,amsgrad=False)\n",
    "\n",
    "model_4.compile(optimizer=opt, loss='mean_absolute_error', metrics=['categorical_accuracy', tf.keras.metrics.Recall(), tf.keras.metrics.TruePositives(), tf.keras.metrics.TrueNegatives(), tf.keras.metrics.FalsePositives(), tf.keras.metrics.FalseNegatives()])\n",
    "\n",
    "print(model_4.summary())"
   ]
  },
  {
   "cell_type": "code",
   "execution_count": 16,
   "id": "380689b2",
   "metadata": {
    "execution": {
     "iopub.execute_input": "2023-01-23T18:36:30.723356Z",
     "iopub.status.busy": "2023-01-23T18:36:30.722829Z",
     "iopub.status.idle": "2023-01-23T18:52:51.466934Z",
     "shell.execute_reply": "2023-01-23T18:52:51.464888Z"
    },
    "papermill": {
     "duration": 981.817751,
     "end_time": "2023-01-23T18:52:51.469954",
     "exception": false,
     "start_time": "2023-01-23T18:36:29.652203",
     "status": "completed"
    },
    "tags": []
   },
   "outputs": [
    {
     "name": "stdout",
     "output_type": "stream",
     "text": [
      "Epoch 1/20\n",
      "251/251 [==============================] - 48s 184ms/step - loss: 0.3750 - categorical_accuracy: 0.4781 - recall: 0.4024 - true_positives: 101.0000 - true_negatives: 391.0000 - false_positives: 111.0000 - false_negatives: 150.0000 - val_loss: 0.2821 - val_categorical_accuracy: 0.6061 - val_recall: 0.6061 - val_true_positives: 40.0000 - val_true_negatives: 109.0000 - val_false_positives: 23.0000 - val_false_negatives: 26.0000\n",
      "Epoch 2/20\n",
      "251/251 [==============================] - 45s 181ms/step - loss: 0.1804 - categorical_accuracy: 0.7530 - recall: 0.7331 - true_positives: 184.0000 - true_negatives: 444.0000 - false_positives: 58.0000 - false_negatives: 67.0000 - val_loss: 0.2196 - val_categorical_accuracy: 0.6515 - val_recall: 0.6515 - val_true_positives: 43.0000 - val_true_negatives: 111.0000 - val_false_positives: 21.0000 - val_false_negatives: 23.0000\n",
      "Epoch 3/20\n",
      "251/251 [==============================] - 45s 179ms/step - loss: 0.0875 - categorical_accuracy: 0.8884 - recall: 0.8884 - true_positives: 223.0000 - true_negatives: 475.0000 - false_positives: 27.0000 - false_negatives: 28.0000 - val_loss: 0.1607 - val_categorical_accuracy: 0.8030 - val_recall: 0.8030 - val_true_positives: 53.0000 - val_true_negatives: 119.0000 - val_false_positives: 13.0000 - val_false_negatives: 13.0000\n",
      "Epoch 4/20\n",
      "251/251 [==============================] - 45s 180ms/step - loss: 0.0715 - categorical_accuracy: 0.9124 - recall: 0.9124 - true_positives: 229.0000 - true_negatives: 480.0000 - false_positives: 22.0000 - false_negatives: 22.0000 - val_loss: 0.1267 - val_categorical_accuracy: 0.8333 - val_recall: 0.8333 - val_true_positives: 55.0000 - val_true_negatives: 121.0000 - val_false_positives: 11.0000 - val_false_negatives: 11.0000\n",
      "Epoch 5/20\n",
      "251/251 [==============================] - 44s 176ms/step - loss: 0.0492 - categorical_accuracy: 0.9363 - recall: 0.9363 - true_positives: 235.0000 - true_negatives: 487.0000 - false_positives: 15.0000 - false_negatives: 16.0000 - val_loss: 0.0957 - val_categorical_accuracy: 0.8939 - val_recall: 0.8939 - val_true_positives: 59.0000 - val_true_negatives: 125.0000 - val_false_positives: 7.0000 - val_false_negatives: 7.0000\n",
      "Epoch 6/20\n",
      "251/251 [==============================] - 45s 178ms/step - loss: 0.0385 - categorical_accuracy: 0.9482 - recall: 0.9482 - true_positives: 238.0000 - true_negatives: 490.0000 - false_positives: 12.0000 - false_negatives: 13.0000 - val_loss: 0.1061 - val_categorical_accuracy: 0.8636 - val_recall: 0.8636 - val_true_positives: 57.0000 - val_true_negatives: 123.0000 - val_false_positives: 9.0000 - val_false_negatives: 9.0000\n",
      "Epoch 7/20\n",
      "251/251 [==============================] - 45s 180ms/step - loss: 0.0355 - categorical_accuracy: 0.9482 - recall: 0.9482 - true_positives: 238.0000 - true_negatives: 489.0000 - false_positives: 13.0000 - false_negatives: 13.0000 - val_loss: 0.1000 - val_categorical_accuracy: 0.8939 - val_recall: 0.8939 - val_true_positives: 59.0000 - val_true_negatives: 125.0000 - val_false_positives: 7.0000 - val_false_negatives: 7.0000\n",
      "Epoch 8/20\n",
      "251/251 [==============================] - 45s 180ms/step - loss: 0.0220 - categorical_accuracy: 0.9761 - recall: 0.9761 - true_positives: 245.0000 - true_negatives: 496.0000 - false_positives: 6.0000 - false_negatives: 6.0000 - val_loss: 0.1379 - val_categorical_accuracy: 0.8030 - val_recall: 0.8030 - val_true_positives: 53.0000 - val_true_negatives: 119.0000 - val_false_positives: 13.0000 - val_false_negatives: 13.0000\n",
      "Epoch 9/20\n",
      "251/251 [==============================] - 45s 179ms/step - loss: 0.0292 - categorical_accuracy: 0.9681 - recall: 0.9681 - true_positives: 243.0000 - true_negatives: 494.0000 - false_positives: 8.0000 - false_negatives: 8.0000 - val_loss: 0.1234 - val_categorical_accuracy: 0.8182 - val_recall: 0.8182 - val_true_positives: 54.0000 - val_true_negatives: 120.0000 - val_false_positives: 12.0000 - val_false_negatives: 12.0000\n",
      "Epoch 10/20\n",
      "251/251 [==============================] - 45s 178ms/step - loss: 0.0137 - categorical_accuracy: 0.9841 - recall: 0.9841 - true_positives: 247.0000 - true_negatives: 498.0000 - false_positives: 4.0000 - false_negatives: 4.0000 - val_loss: 0.1138 - val_categorical_accuracy: 0.8485 - val_recall: 0.8485 - val_true_positives: 56.0000 - val_true_negatives: 122.0000 - val_false_positives: 10.0000 - val_false_negatives: 10.0000\n",
      "Epoch 11/20\n",
      "251/251 [==============================] - 45s 177ms/step - loss: 0.0132 - categorical_accuracy: 0.9880 - recall: 0.9880 - true_positives: 248.0000 - true_negatives: 499.0000 - false_positives: 3.0000 - false_negatives: 3.0000 - val_loss: 0.0955 - val_categorical_accuracy: 0.8636 - val_recall: 0.8636 - val_true_positives: 57.0000 - val_true_negatives: 123.0000 - val_false_positives: 9.0000 - val_false_negatives: 9.0000\n",
      "Epoch 12/20\n",
      "251/251 [==============================] - 45s 178ms/step - loss: 0.0147 - categorical_accuracy: 0.9801 - recall: 0.9801 - true_positives: 246.0000 - true_negatives: 497.0000 - false_positives: 5.0000 - false_negatives: 5.0000 - val_loss: 0.0693 - val_categorical_accuracy: 0.8939 - val_recall: 0.8939 - val_true_positives: 59.0000 - val_true_negatives: 125.0000 - val_false_positives: 7.0000 - val_false_negatives: 7.0000\n",
      "Epoch 13/20\n",
      "251/251 [==============================] - 46s 181ms/step - loss: 0.0119 - categorical_accuracy: 0.9880 - recall: 0.9880 - true_positives: 248.0000 - true_negatives: 499.0000 - false_positives: 3.0000 - false_negatives: 3.0000 - val_loss: 0.0912 - val_categorical_accuracy: 0.8939 - val_recall: 0.8939 - val_true_positives: 59.0000 - val_true_negatives: 125.0000 - val_false_positives: 7.0000 - val_false_negatives: 7.0000\n",
      "Epoch 14/20\n",
      "251/251 [==============================] - 45s 179ms/step - loss: 0.0122 - categorical_accuracy: 0.9841 - recall: 0.9841 - true_positives: 247.0000 - true_negatives: 498.0000 - false_positives: 4.0000 - false_negatives: 4.0000 - val_loss: 0.0680 - val_categorical_accuracy: 0.9091 - val_recall: 0.9091 - val_true_positives: 60.0000 - val_true_negatives: 126.0000 - val_false_positives: 6.0000 - val_false_negatives: 6.0000\n",
      "Epoch 15/20\n",
      "251/251 [==============================] - 45s 180ms/step - loss: 0.0088 - categorical_accuracy: 0.9880 - recall: 0.9880 - true_positives: 248.0000 - true_negatives: 499.0000 - false_positives: 3.0000 - false_negatives: 3.0000 - val_loss: 0.0995 - val_categorical_accuracy: 0.8485 - val_recall: 0.8485 - val_true_positives: 56.0000 - val_true_negatives: 122.0000 - val_false_positives: 10.0000 - val_false_negatives: 10.0000\n",
      "Epoch 16/20\n",
      "251/251 [==============================] - 46s 183ms/step - loss: 0.0112 - categorical_accuracy: 0.9880 - recall: 0.9880 - true_positives: 248.0000 - true_negatives: 499.0000 - false_positives: 3.0000 - false_negatives: 3.0000 - val_loss: 0.0778 - val_categorical_accuracy: 0.8788 - val_recall: 0.8788 - val_true_positives: 58.0000 - val_true_negatives: 124.0000 - val_false_positives: 8.0000 - val_false_negatives: 8.0000\n",
      "Epoch 17/20\n",
      "251/251 [==============================] - 45s 181ms/step - loss: 0.0015 - categorical_accuracy: 1.0000 - recall: 1.0000 - true_positives: 251.0000 - true_negatives: 502.0000 - false_positives: 0.0000e+00 - false_negatives: 0.0000e+00 - val_loss: 0.0607 - val_categorical_accuracy: 0.9394 - val_recall: 0.9394 - val_true_positives: 62.0000 - val_true_negatives: 128.0000 - val_false_positives: 4.0000 - val_false_negatives: 4.0000\n",
      "Epoch 18/20\n",
      "251/251 [==============================] - 46s 184ms/step - loss: 0.0041 - categorical_accuracy: 0.9960 - recall: 0.9960 - true_positives: 250.0000 - true_negatives: 501.0000 - false_positives: 1.0000 - false_negatives: 1.0000 - val_loss: 0.0895 - val_categorical_accuracy: 0.8636 - val_recall: 0.8636 - val_true_positives: 57.0000 - val_true_negatives: 123.0000 - val_false_positives: 9.0000 - val_false_negatives: 9.0000\n",
      "Epoch 19/20\n",
      "251/251 [==============================] - 45s 180ms/step - loss: 0.0060 - categorical_accuracy: 0.9920 - recall: 0.9920 - true_positives: 249.0000 - true_negatives: 500.0000 - false_positives: 2.0000 - false_negatives: 2.0000 - val_loss: 0.0747 - val_categorical_accuracy: 0.8939 - val_recall: 0.8939 - val_true_positives: 59.0000 - val_true_negatives: 125.0000 - val_false_positives: 7.0000 - val_false_negatives: 7.0000\n",
      "Epoch 20/20\n",
      "251/251 [==============================] - 46s 182ms/step - loss: 0.0011 - categorical_accuracy: 1.0000 - recall: 1.0000 - true_positives: 251.0000 - true_negatives: 502.0000 - false_positives: 0.0000e+00 - false_negatives: 0.0000e+00 - val_loss: 0.0860 - val_categorical_accuracy: 0.8636 - val_recall: 0.8636 - val_true_positives: 57.0000 - val_true_negatives: 123.0000 - val_false_positives: 9.0000 - val_false_negatives: 9.0000\n"
     ]
    }
   ],
   "source": [
    "history_4 = model_4.fit(x=train_generator, validation_data=validation_generator, epochs=20)"
   ]
  },
  {
   "cell_type": "markdown",
   "id": "e0f078e7",
   "metadata": {
    "papermill": {
     "duration": 1.521121,
     "end_time": "2023-01-23T18:52:54.482701",
     "exception": false,
     "start_time": "2023-01-23T18:52:52.961580",
     "status": "completed"
    },
    "tags": []
   },
   "source": [
    "Adding a global max pooling layer"
   ]
  },
  {
   "cell_type": "code",
   "execution_count": 17,
   "id": "2f44e91d",
   "metadata": {
    "execution": {
     "iopub.execute_input": "2023-01-23T18:52:57.386111Z",
     "iopub.status.busy": "2023-01-23T18:52:57.384704Z",
     "iopub.status.idle": "2023-01-23T18:52:57.565084Z",
     "shell.execute_reply": "2023-01-23T18:52:57.563567Z"
    },
    "papermill": {
     "duration": 1.714018,
     "end_time": "2023-01-23T18:52:57.569651",
     "exception": false,
     "start_time": "2023-01-23T18:52:55.855633",
     "status": "completed"
    },
    "tags": []
   },
   "outputs": [
    {
     "name": "stdout",
     "output_type": "stream",
     "text": [
      "Model: \"sequential\"\n",
      "_________________________________________________________________\n",
      "Layer (type)                 Output Shape              Param #   \n",
      "=================================================================\n",
      "conv2d (Conv2D)              (None, 256, 256, 16)      448       \n",
      "_________________________________________________________________\n",
      "conv2d_1 (Conv2D)            (None, 256, 256, 16)      2320      \n",
      "_________________________________________________________________\n",
      "conv2d_2 (Conv2D)            (None, 256, 256, 16)      2320      \n",
      "_________________________________________________________________\n",
      "max_pooling2d (MaxPooling2D) (None, 128, 128, 16)      0         \n",
      "_________________________________________________________________\n",
      "conv2d_3 (Conv2D)            (None, 128, 128, 16)      2320      \n",
      "_________________________________________________________________\n",
      "conv2d_4 (Conv2D)            (None, 128, 128, 16)      2320      \n",
      "_________________________________________________________________\n",
      "conv2d_5 (Conv2D)            (None, 128, 128, 16)      2320      \n",
      "_________________________________________________________________\n",
      "max_pooling2d_1 (MaxPooling2 (None, 64, 64, 16)        0         \n",
      "_________________________________________________________________\n",
      "global_max_pooling2d (Global (None, 16)                0         \n",
      "_________________________________________________________________\n",
      "flatten (Flatten)            (None, 16)                0         \n",
      "_________________________________________________________________\n",
      "dense (Dense)                (None, 512)               8704      \n",
      "_________________________________________________________________\n",
      "dropout (Dropout)            (None, 512)               0         \n",
      "_________________________________________________________________\n",
      "dense_1 (Dense)              (None, 512)               262656    \n",
      "_________________________________________________________________\n",
      "dense_2 (Dense)              (None, 3)                 1539      \n",
      "=================================================================\n",
      "Total params: 284,947\n",
      "Trainable params: 284,947\n",
      "Non-trainable params: 0\n",
      "_________________________________________________________________\n",
      "None\n"
     ]
    }
   ],
   "source": [
    "num_filters = 16\n",
    "kernel_size = (3,3)\n",
    "lrate =.00005\n",
    "padding = 'same'\n",
    "tf.keras.backend.clear_session()\n",
    "\n",
    "model_5 = Sequential([\n",
    "    Input(shape=(256,256,3)),\n",
    "    Conv2D(filters=num_filters,kernel_size=kernel_size, padding=padding, activation='relu'),\n",
    "    Conv2D(filters=num_filters,kernel_size=kernel_size, padding=padding, activation='relu'),\n",
    "    Conv2D(filters=num_filters,kernel_size=kernel_size, padding=padding, activation='relu'),\n",
    "    MaxPooling2D(),\n",
    "    Conv2D(filters=num_filters,kernel_size=kernel_size, padding=padding, activation='relu'),\n",
    "    Conv2D(filters=num_filters,kernel_size=kernel_size, padding=padding, activation='relu'),\n",
    "    Conv2D(filters=num_filters,kernel_size=kernel_size, padding=padding, activation='relu'),\n",
    "    MaxPooling2D(),\n",
    "    GlobalMaxPooling2D(),\n",
    "    Flatten(),\n",
    "    Dense(512, activation='relu'),\n",
    "    Dropout(.3),\n",
    "    Dense(512, activation='relu'),\n",
    "    Dense(3, activation='softmax')\n",
    "])\n",
    "\n",
    "opt=tf.keras.optimizers.Adam(learning_rate=lrate,beta_1=0.9,beta_2=0.999,epsilon=None,decay=0.0,amsgrad=False)\n",
    "\n",
    "model_5.compile(optimizer=opt, loss='mean_absolute_error', metrics=['categorical_accuracy', tf.keras.metrics.Recall(), tf.keras.metrics.TruePositives(), tf.keras.metrics.TrueNegatives(), tf.keras.metrics.FalsePositives(), tf.keras.metrics.FalseNegatives()])\n",
    "\n",
    "print(model_5.summary())"
   ]
  },
  {
   "cell_type": "code",
   "execution_count": 18,
   "id": "2a51b309",
   "metadata": {
    "execution": {
     "iopub.execute_input": "2023-01-23T18:53:00.570114Z",
     "iopub.status.busy": "2023-01-23T18:53:00.569104Z",
     "iopub.status.idle": "2023-01-23T19:02:06.258053Z",
     "shell.execute_reply": "2023-01-23T19:02:06.256718Z"
    },
    "papermill": {
     "duration": 547.210985,
     "end_time": "2023-01-23T19:02:06.261026",
     "exception": false,
     "start_time": "2023-01-23T18:52:59.050041",
     "status": "completed"
    },
    "tags": []
   },
   "outputs": [
    {
     "name": "stdout",
     "output_type": "stream",
     "text": [
      "Epoch 1/20\n",
      "251/251 [==============================] - 28s 105ms/step - loss: 0.4424 - categorical_accuracy: 0.4303 - recall: 0.0000e+00 - true_positives: 0.0000e+00 - true_negatives: 502.0000 - false_positives: 0.0000e+00 - false_negatives: 251.0000 - val_loss: 0.4405 - val_categorical_accuracy: 0.3939 - val_recall: 0.0000e+00 - val_true_positives: 0.0000e+00 - val_true_negatives: 132.0000 - val_false_positives: 0.0000e+00 - val_false_negatives: 66.0000\n",
      "Epoch 2/20\n",
      "251/251 [==============================] - 26s 102ms/step - loss: 0.4158 - categorical_accuracy: 0.4422 - recall: 0.2709 - true_positives: 68.0000 - true_negatives: 417.0000 - false_positives: 85.0000 - false_negatives: 183.0000 - val_loss: 0.4122 - val_categorical_accuracy: 0.3939 - val_recall: 0.3939 - val_true_positives: 26.0000 - val_true_negatives: 92.0000 - val_false_positives: 40.0000 - val_false_negatives: 40.0000\n",
      "Epoch 3/20\n",
      "251/251 [==============================] - 26s 102ms/step - loss: 0.3752 - categorical_accuracy: 0.4422 - recall: 0.4422 - true_positives: 111.0000 - true_negatives: 362.0000 - false_positives: 140.0000 - false_negatives: 140.0000 - val_loss: 0.4046 - val_categorical_accuracy: 0.3939 - val_recall: 0.3939 - val_true_positives: 26.0000 - val_true_negatives: 92.0000 - val_false_positives: 40.0000 - val_false_negatives: 40.0000\n",
      "Epoch 4/20\n",
      "251/251 [==============================] - 25s 99ms/step - loss: 0.3724 - categorical_accuracy: 0.4422 - recall: 0.4422 - true_positives: 111.0000 - true_negatives: 362.0000 - false_positives: 140.0000 - false_negatives: 140.0000 - val_loss: 0.4042 - val_categorical_accuracy: 0.3939 - val_recall: 0.3939 - val_true_positives: 26.0000 - val_true_negatives: 92.0000 - val_false_positives: 40.0000 - val_false_negatives: 40.0000\n",
      "Epoch 5/20\n",
      "251/251 [==============================] - 25s 101ms/step - loss: 0.3721 - categorical_accuracy: 0.4422 - recall: 0.4422 - true_positives: 111.0000 - true_negatives: 362.0000 - false_positives: 140.0000 - false_negatives: 140.0000 - val_loss: 0.4041 - val_categorical_accuracy: 0.3939 - val_recall: 0.3939 - val_true_positives: 26.0000 - val_true_negatives: 92.0000 - val_false_positives: 40.0000 - val_false_negatives: 40.0000\n",
      "Epoch 6/20\n",
      "251/251 [==============================] - 26s 102ms/step - loss: 0.3720 - categorical_accuracy: 0.4422 - recall: 0.4422 - true_positives: 111.0000 - true_negatives: 362.0000 - false_positives: 140.0000 - false_negatives: 140.0000 - val_loss: 0.4041 - val_categorical_accuracy: 0.3939 - val_recall: 0.3939 - val_true_positives: 26.0000 - val_true_negatives: 92.0000 - val_false_positives: 40.0000 - val_false_negatives: 40.0000\n",
      "Epoch 7/20\n",
      "251/251 [==============================] - 25s 99ms/step - loss: 0.3719 - categorical_accuracy: 0.4422 - recall: 0.4422 - true_positives: 111.0000 - true_negatives: 362.0000 - false_positives: 140.0000 - false_negatives: 140.0000 - val_loss: 0.4041 - val_categorical_accuracy: 0.3939 - val_recall: 0.3939 - val_true_positives: 26.0000 - val_true_negatives: 92.0000 - val_false_positives: 40.0000 - val_false_negatives: 40.0000\n",
      "Epoch 8/20\n",
      "251/251 [==============================] - 26s 101ms/step - loss: 0.3719 - categorical_accuracy: 0.4422 - recall: 0.4422 - true_positives: 111.0000 - true_negatives: 362.0000 - false_positives: 140.0000 - false_negatives: 140.0000 - val_loss: 0.4041 - val_categorical_accuracy: 0.3939 - val_recall: 0.3939 - val_true_positives: 26.0000 - val_true_negatives: 92.0000 - val_false_positives: 40.0000 - val_false_negatives: 40.0000\n",
      "Epoch 9/20\n",
      "251/251 [==============================] - 26s 103ms/step - loss: 0.3719 - categorical_accuracy: 0.4422 - recall: 0.4422 - true_positives: 111.0000 - true_negatives: 362.0000 - false_positives: 140.0000 - false_negatives: 140.0000 - val_loss: 0.4041 - val_categorical_accuracy: 0.3939 - val_recall: 0.3939 - val_true_positives: 26.0000 - val_true_negatives: 92.0000 - val_false_positives: 40.0000 - val_false_negatives: 40.0000\n",
      "Epoch 10/20\n",
      "251/251 [==============================] - 26s 104ms/step - loss: 0.3719 - categorical_accuracy: 0.4422 - recall: 0.4422 - true_positives: 111.0000 - true_negatives: 362.0000 - false_positives: 140.0000 - false_negatives: 140.0000 - val_loss: 0.4041 - val_categorical_accuracy: 0.3939 - val_recall: 0.3939 - val_true_positives: 26.0000 - val_true_negatives: 92.0000 - val_false_positives: 40.0000 - val_false_negatives: 40.0000\n",
      "Epoch 11/20\n",
      "251/251 [==============================] - 26s 105ms/step - loss: 0.3719 - categorical_accuracy: 0.4422 - recall: 0.4422 - true_positives: 111.0000 - true_negatives: 362.0000 - false_positives: 140.0000 - false_negatives: 140.0000 - val_loss: 0.4040 - val_categorical_accuracy: 0.3939 - val_recall: 0.3939 - val_true_positives: 26.0000 - val_true_negatives: 92.0000 - val_false_positives: 40.0000 - val_false_negatives: 40.0000\n",
      "Epoch 12/20\n",
      "251/251 [==============================] - 25s 100ms/step - loss: 0.3719 - categorical_accuracy: 0.4422 - recall: 0.4422 - true_positives: 111.0000 - true_negatives: 362.0000 - false_positives: 140.0000 - false_negatives: 140.0000 - val_loss: 0.4040 - val_categorical_accuracy: 0.3939 - val_recall: 0.3939 - val_true_positives: 26.0000 - val_true_negatives: 92.0000 - val_false_positives: 40.0000 - val_false_negatives: 40.0000\n",
      "Epoch 13/20\n",
      "251/251 [==============================] - 26s 103ms/step - loss: 0.3719 - categorical_accuracy: 0.4422 - recall: 0.4422 - true_positives: 111.0000 - true_negatives: 362.0000 - false_positives: 140.0000 - false_negatives: 140.0000 - val_loss: 0.4040 - val_categorical_accuracy: 0.3939 - val_recall: 0.3939 - val_true_positives: 26.0000 - val_true_negatives: 92.0000 - val_false_positives: 40.0000 - val_false_negatives: 40.0000\n",
      "Epoch 14/20\n",
      "251/251 [==============================] - 26s 104ms/step - loss: 0.3719 - categorical_accuracy: 0.4422 - recall: 0.4422 - true_positives: 111.0000 - true_negatives: 362.0000 - false_positives: 140.0000 - false_negatives: 140.0000 - val_loss: 0.4040 - val_categorical_accuracy: 0.3939 - val_recall: 0.3939 - val_true_positives: 26.0000 - val_true_negatives: 92.0000 - val_false_positives: 40.0000 - val_false_negatives: 40.0000\n",
      "Epoch 15/20\n",
      "251/251 [==============================] - 26s 103ms/step - loss: 0.3719 - categorical_accuracy: 0.4422 - recall: 0.4422 - true_positives: 111.0000 - true_negatives: 362.0000 - false_positives: 140.0000 - false_negatives: 140.0000 - val_loss: 0.4040 - val_categorical_accuracy: 0.3939 - val_recall: 0.3939 - val_true_positives: 26.0000 - val_true_negatives: 92.0000 - val_false_positives: 40.0000 - val_false_negatives: 40.0000\n",
      "Epoch 16/20\n",
      "251/251 [==============================] - 25s 101ms/step - loss: 0.3718 - categorical_accuracy: 0.4422 - recall: 0.4422 - true_positives: 111.0000 - true_negatives: 362.0000 - false_positives: 140.0000 - false_negatives: 140.0000 - val_loss: 0.4040 - val_categorical_accuracy: 0.3939 - val_recall: 0.3939 - val_true_positives: 26.0000 - val_true_negatives: 92.0000 - val_false_positives: 40.0000 - val_false_negatives: 40.0000\n",
      "Epoch 17/20\n",
      "251/251 [==============================] - 26s 102ms/step - loss: 0.3718 - categorical_accuracy: 0.4422 - recall: 0.4422 - true_positives: 111.0000 - true_negatives: 362.0000 - false_positives: 140.0000 - false_negatives: 140.0000 - val_loss: 0.4040 - val_categorical_accuracy: 0.3939 - val_recall: 0.3939 - val_true_positives: 26.0000 - val_true_negatives: 92.0000 - val_false_positives: 40.0000 - val_false_negatives: 40.0000\n",
      "Epoch 18/20\n",
      "251/251 [==============================] - 25s 101ms/step - loss: 0.3719 - categorical_accuracy: 0.4422 - recall: 0.4422 - true_positives: 111.0000 - true_negatives: 362.0000 - false_positives: 140.0000 - false_negatives: 140.0000 - val_loss: 0.4040 - val_categorical_accuracy: 0.3939 - val_recall: 0.3939 - val_true_positives: 26.0000 - val_true_negatives: 92.0000 - val_false_positives: 40.0000 - val_false_negatives: 40.0000\n",
      "Epoch 19/20\n",
      "251/251 [==============================] - 26s 102ms/step - loss: 0.3718 - categorical_accuracy: 0.4422 - recall: 0.4422 - true_positives: 111.0000 - true_negatives: 362.0000 - false_positives: 140.0000 - false_negatives: 140.0000 - val_loss: 0.4040 - val_categorical_accuracy: 0.3939 - val_recall: 0.3939 - val_true_positives: 26.0000 - val_true_negatives: 92.0000 - val_false_positives: 40.0000 - val_false_negatives: 40.0000\n",
      "Epoch 20/20\n",
      "251/251 [==============================] - 25s 99ms/step - loss: 0.3718 - categorical_accuracy: 0.4422 - recall: 0.4422 - true_positives: 111.0000 - true_negatives: 362.0000 - false_positives: 140.0000 - false_negatives: 140.0000 - val_loss: 0.4040 - val_categorical_accuracy: 0.3939 - val_recall: 0.3939 - val_true_positives: 26.0000 - val_true_negatives: 92.0000 - val_false_positives: 40.0000 - val_false_negatives: 40.0000\n"
     ]
    }
   ],
   "source": [
    "history_5 = model_5.fit(x=train_generator, validation_data=validation_generator, epochs=20)"
   ]
  },
  {
   "cell_type": "markdown",
   "id": "72e59783",
   "metadata": {
    "papermill": {
     "duration": 1.871506,
     "end_time": "2023-01-23T19:02:09.989752",
     "exception": false,
     "start_time": "2023-01-23T19:02:08.118246",
     "status": "completed"
    },
    "tags": []
   },
   "source": [
    "As I expected, this didn't work. Removing the global max pooling layer.\n",
    "\n",
    "Now adding in kernel regularization"
   ]
  },
  {
   "cell_type": "code",
   "execution_count": 19,
   "id": "54b47cca",
   "metadata": {
    "execution": {
     "iopub.execute_input": "2023-01-23T19:02:13.757230Z",
     "iopub.status.busy": "2023-01-23T19:02:13.756745Z",
     "iopub.status.idle": "2023-01-23T19:02:14.150272Z",
     "shell.execute_reply": "2023-01-23T19:02:14.148314Z"
    },
    "papermill": {
     "duration": 2.277816,
     "end_time": "2023-01-23T19:02:14.153348",
     "exception": false,
     "start_time": "2023-01-23T19:02:11.875532",
     "status": "completed"
    },
    "tags": []
   },
   "outputs": [
    {
     "name": "stdout",
     "output_type": "stream",
     "text": [
      "Model: \"sequential\"\n",
      "_________________________________________________________________\n",
      "Layer (type)                 Output Shape              Param #   \n",
      "=================================================================\n",
      "conv2d (Conv2D)              (None, 256, 256, 16)      448       \n",
      "_________________________________________________________________\n",
      "conv2d_1 (Conv2D)            (None, 256, 256, 16)      2320      \n",
      "_________________________________________________________________\n",
      "conv2d_2 (Conv2D)            (None, 256, 256, 16)      2320      \n",
      "_________________________________________________________________\n",
      "max_pooling2d (MaxPooling2D) (None, 128, 128, 16)      0         \n",
      "_________________________________________________________________\n",
      "conv2d_3 (Conv2D)            (None, 128, 128, 16)      2320      \n",
      "_________________________________________________________________\n",
      "conv2d_4 (Conv2D)            (None, 128, 128, 16)      2320      \n",
      "_________________________________________________________________\n",
      "conv2d_5 (Conv2D)            (None, 128, 128, 16)      2320      \n",
      "_________________________________________________________________\n",
      "max_pooling2d_1 (MaxPooling2 (None, 64, 64, 16)        0         \n",
      "_________________________________________________________________\n",
      "flatten (Flatten)            (None, 65536)             0         \n",
      "_________________________________________________________________\n",
      "dense (Dense)                (None, 512)               33554944  \n",
      "_________________________________________________________________\n",
      "dropout (Dropout)            (None, 512)               0         \n",
      "_________________________________________________________________\n",
      "dense_1 (Dense)              (None, 512)               262656    \n",
      "_________________________________________________________________\n",
      "dense_2 (Dense)              (None, 3)                 1539      \n",
      "=================================================================\n",
      "Total params: 33,831,187\n",
      "Trainable params: 33,831,187\n",
      "Non-trainable params: 0\n",
      "_________________________________________________________________\n",
      "None\n"
     ]
    }
   ],
   "source": [
    "num_filters = 16\n",
    "kernel_size = (3,3)\n",
    "lrate =.00005\n",
    "padding = 'same'\n",
    "l2 = .00033\n",
    "tf.keras.backend.clear_session()\n",
    "\n",
    "model_6 = Sequential([\n",
    "    Input(shape=(256,256,3)),\n",
    "    Conv2D(filters=num_filters,kernel_size=kernel_size, padding=padding, activation='relu', kernel_regularizer=tf.keras.regularizers.l2(l2)),\n",
    "    Conv2D(filters=num_filters,kernel_size=kernel_size, padding=padding, activation='relu', kernel_regularizer=tf.keras.regularizers.l2(l2)),\n",
    "    Conv2D(filters=num_filters,kernel_size=kernel_size, padding=padding, activation='relu', kernel_regularizer=tf.keras.regularizers.l2(l2)),\n",
    "    MaxPooling2D(),\n",
    "    Conv2D(filters=num_filters,kernel_size=kernel_size, padding=padding, activation='relu', kernel_regularizer=tf.keras.regularizers.l2(l2)),\n",
    "    Conv2D(filters=num_filters,kernel_size=kernel_size, padding=padding, activation='relu', kernel_regularizer=tf.keras.regularizers.l2(l2)),\n",
    "    Conv2D(filters=num_filters,kernel_size=kernel_size, padding=padding, activation='relu', kernel_regularizer=tf.keras.regularizers.l2(l2)),\n",
    "    MaxPooling2D(),\n",
    "    Flatten(),\n",
    "    Dense(512, activation='relu'),\n",
    "    Dropout(.3),\n",
    "    Dense(512, activation='relu'),\n",
    "    Dense(3, activation='softmax')\n",
    "])\n",
    "\n",
    "opt=tf.keras.optimizers.Adam(learning_rate=lrate,beta_1=0.9,beta_2=0.999,epsilon=None,decay=0.0,amsgrad=False)\n",
    "\n",
    "model_6.compile(optimizer=opt, loss='mean_absolute_error', metrics=['categorical_accuracy', tf.keras.metrics.Recall(), tf.keras.metrics.TruePositives(), tf.keras.metrics.TrueNegatives(), tf.keras.metrics.FalsePositives(), tf.keras.metrics.FalseNegatives()])\n",
    "\n",
    "print(model_6.summary())"
   ]
  },
  {
   "cell_type": "code",
   "execution_count": 20,
   "id": "e63c362d",
   "metadata": {
    "execution": {
     "iopub.execute_input": "2023-01-23T19:02:17.832342Z",
     "iopub.status.busy": "2023-01-23T19:02:17.831456Z",
     "iopub.status.idle": "2023-01-23T19:19:08.349534Z",
     "shell.execute_reply": "2023-01-23T19:19:08.347903Z"
    },
    "papermill": {
     "duration": 1014.75294,
     "end_time": "2023-01-23T19:19:10.727398",
     "exception": false,
     "start_time": "2023-01-23T19:02:15.974458",
     "status": "completed"
    },
    "tags": []
   },
   "outputs": [
    {
     "name": "stdout",
     "output_type": "stream",
     "text": [
      "Epoch 1/20\n",
      "251/251 [==============================] - 49s 185ms/step - loss: 0.3406 - categorical_accuracy: 0.5378 - recall: 0.4900 - true_positives: 123.0000 - true_negatives: 415.0000 - false_positives: 87.0000 - false_negatives: 128.0000 - val_loss: 0.3385 - val_categorical_accuracy: 0.5152 - val_recall: 0.5152 - val_true_positives: 34.0000 - val_true_negatives: 101.0000 - val_false_positives: 31.0000 - val_false_negatives: 32.0000\n",
      "Epoch 2/20\n",
      "251/251 [==============================] - 46s 185ms/step - loss: 0.2413 - categorical_accuracy: 0.6813 - recall: 0.6733 - true_positives: 169.0000 - true_negatives: 423.0000 - false_positives: 79.0000 - false_negatives: 82.0000 - val_loss: 0.3228 - val_categorical_accuracy: 0.5455 - val_recall: 0.5455 - val_true_positives: 36.0000 - val_true_negatives: 102.0000 - val_false_positives: 30.0000 - val_false_negatives: 30.0000\n",
      "Epoch 3/20\n",
      "251/251 [==============================] - 47s 187ms/step - loss: 0.1925 - categorical_accuracy: 0.7450 - recall: 0.7450 - true_positives: 187.0000 - true_negatives: 439.0000 - false_positives: 63.0000 - false_negatives: 64.0000 - val_loss: 0.2675 - val_categorical_accuracy: 0.6061 - val_recall: 0.6061 - val_true_positives: 40.0000 - val_true_negatives: 107.0000 - val_false_positives: 25.0000 - val_false_negatives: 26.0000\n",
      "Epoch 4/20\n",
      "251/251 [==============================] - 48s 190ms/step - loss: 0.1486 - categorical_accuracy: 0.8127 - recall: 0.8088 - true_positives: 203.0000 - true_negatives: 456.0000 - false_positives: 46.0000 - false_negatives: 48.0000 - val_loss: 0.1618 - val_categorical_accuracy: 0.8182 - val_recall: 0.8030 - val_true_positives: 53.0000 - val_true_negatives: 120.0000 - val_false_positives: 12.0000 - val_false_negatives: 13.0000\n",
      "Epoch 5/20\n",
      "251/251 [==============================] - 47s 185ms/step - loss: 0.1160 - categorical_accuracy: 0.8645 - recall: 0.8645 - true_positives: 217.0000 - true_negatives: 468.0000 - false_positives: 34.0000 - false_negatives: 34.0000 - val_loss: 0.1350 - val_categorical_accuracy: 0.8333 - val_recall: 0.8333 - val_true_positives: 55.0000 - val_true_negatives: 121.0000 - val_false_positives: 11.0000 - val_false_negatives: 11.0000\n",
      "Epoch 6/20\n",
      "251/251 [==============================] - 47s 188ms/step - loss: 0.1103 - categorical_accuracy: 0.8685 - recall: 0.8685 - true_positives: 218.0000 - true_negatives: 469.0000 - false_positives: 33.0000 - false_negatives: 33.0000 - val_loss: 0.1948 - val_categorical_accuracy: 0.7424 - val_recall: 0.7424 - val_true_positives: 49.0000 - val_true_negatives: 115.0000 - val_false_positives: 17.0000 - val_false_negatives: 17.0000\n",
      "Epoch 7/20\n",
      "251/251 [==============================] - 45s 180ms/step - loss: 0.0892 - categorical_accuracy: 0.8964 - recall: 0.8964 - true_positives: 225.0000 - true_negatives: 477.0000 - false_positives: 25.0000 - false_negatives: 26.0000 - val_loss: 0.2224 - val_categorical_accuracy: 0.6970 - val_recall: 0.6970 - val_true_positives: 46.0000 - val_true_negatives: 112.0000 - val_false_positives: 20.0000 - val_false_negatives: 20.0000\n",
      "Epoch 8/20\n",
      "251/251 [==============================] - 46s 185ms/step - loss: 0.0707 - categorical_accuracy: 0.9243 - recall: 0.9243 - true_positives: 232.0000 - true_negatives: 483.0000 - false_positives: 19.0000 - false_negatives: 19.0000 - val_loss: 0.1665 - val_categorical_accuracy: 0.8030 - val_recall: 0.8030 - val_true_positives: 53.0000 - val_true_negatives: 119.0000 - val_false_positives: 13.0000 - val_false_negatives: 13.0000\n",
      "Epoch 9/20\n",
      "251/251 [==============================] - 47s 186ms/step - loss: 0.0697 - categorical_accuracy: 0.9243 - recall: 0.9243 - true_positives: 232.0000 - true_negatives: 483.0000 - false_positives: 19.0000 - false_negatives: 19.0000 - val_loss: 0.1410 - val_categorical_accuracy: 0.8182 - val_recall: 0.8182 - val_true_positives: 54.0000 - val_true_negatives: 120.0000 - val_false_positives: 12.0000 - val_false_negatives: 12.0000\n",
      "Epoch 10/20\n",
      "251/251 [==============================] - 47s 187ms/step - loss: 0.0718 - categorical_accuracy: 0.9283 - recall: 0.9283 - true_positives: 233.0000 - true_negatives: 484.0000 - false_positives: 18.0000 - false_negatives: 18.0000 - val_loss: 0.1917 - val_categorical_accuracy: 0.7424 - val_recall: 0.7424 - val_true_positives: 49.0000 - val_true_negatives: 115.0000 - val_false_positives: 17.0000 - val_false_negatives: 17.0000\n",
      "Epoch 11/20\n",
      "251/251 [==============================] - 47s 187ms/step - loss: 0.0802 - categorical_accuracy: 0.9044 - recall: 0.9044 - true_positives: 227.0000 - true_negatives: 478.0000 - false_positives: 24.0000 - false_negatives: 24.0000 - val_loss: 0.1085 - val_categorical_accuracy: 0.8788 - val_recall: 0.8788 - val_true_positives: 58.0000 - val_true_negatives: 124.0000 - val_false_positives: 8.0000 - val_false_negatives: 8.0000\n",
      "Epoch 12/20\n",
      "251/251 [==============================] - 48s 190ms/step - loss: 0.0596 - categorical_accuracy: 0.9402 - recall: 0.9402 - true_positives: 236.0000 - true_negatives: 487.0000 - false_positives: 15.0000 - false_negatives: 15.0000 - val_loss: 0.1051 - val_categorical_accuracy: 0.8939 - val_recall: 0.8788 - val_true_positives: 58.0000 - val_true_negatives: 125.0000 - val_false_positives: 7.0000 - val_false_negatives: 8.0000\n",
      "Epoch 13/20\n",
      "251/251 [==============================] - 47s 187ms/step - loss: 0.0530 - categorical_accuracy: 0.9522 - recall: 0.9522 - true_positives: 239.0000 - true_negatives: 490.0000 - false_positives: 12.0000 - false_negatives: 12.0000 - val_loss: 0.0908 - val_categorical_accuracy: 0.8939 - val_recall: 0.8939 - val_true_positives: 59.0000 - val_true_negatives: 125.0000 - val_false_positives: 7.0000 - val_false_negatives: 7.0000\n",
      "Epoch 14/20\n",
      "251/251 [==============================] - 49s 193ms/step - loss: 0.0372 - categorical_accuracy: 0.9721 - recall: 0.9721 - true_positives: 244.0000 - true_negatives: 495.0000 - false_positives: 7.0000 - false_negatives: 7.0000 - val_loss: 0.0985 - val_categorical_accuracy: 0.8939 - val_recall: 0.8939 - val_true_positives: 59.0000 - val_true_negatives: 125.0000 - val_false_positives: 7.0000 - val_false_negatives: 7.0000\n",
      "Epoch 15/20\n",
      "251/251 [==============================] - 47s 187ms/step - loss: 0.0466 - categorical_accuracy: 0.9562 - recall: 0.9562 - true_positives: 240.0000 - true_negatives: 491.0000 - false_positives: 11.0000 - false_negatives: 11.0000 - val_loss: 0.1223 - val_categorical_accuracy: 0.8333 - val_recall: 0.8333 - val_true_positives: 55.0000 - val_true_negatives: 121.0000 - val_false_positives: 11.0000 - val_false_negatives: 11.0000\n",
      "Epoch 16/20\n",
      "251/251 [==============================] - 47s 188ms/step - loss: 0.0397 - categorical_accuracy: 0.9681 - recall: 0.9681 - true_positives: 243.0000 - true_negatives: 494.0000 - false_positives: 8.0000 - false_negatives: 8.0000 - val_loss: 0.1080 - val_categorical_accuracy: 0.8636 - val_recall: 0.8636 - val_true_positives: 57.0000 - val_true_negatives: 123.0000 - val_false_positives: 9.0000 - val_false_negatives: 9.0000\n",
      "Epoch 17/20\n",
      "251/251 [==============================] - 47s 186ms/step - loss: 0.0274 - categorical_accuracy: 0.9880 - recall: 0.9880 - true_positives: 248.0000 - true_negatives: 499.0000 - false_positives: 3.0000 - false_negatives: 3.0000 - val_loss: 0.1085 - val_categorical_accuracy: 0.8636 - val_recall: 0.8636 - val_true_positives: 57.0000 - val_true_negatives: 123.0000 - val_false_positives: 9.0000 - val_false_negatives: 9.0000\n",
      "Epoch 18/20\n",
      "251/251 [==============================] - 48s 190ms/step - loss: 0.0349 - categorical_accuracy: 0.9761 - recall: 0.9761 - true_positives: 245.0000 - true_negatives: 496.0000 - false_positives: 6.0000 - false_negatives: 6.0000 - val_loss: 0.1302 - val_categorical_accuracy: 0.8333 - val_recall: 0.8333 - val_true_positives: 55.0000 - val_true_negatives: 121.0000 - val_false_positives: 11.0000 - val_false_negatives: 11.0000\n",
      "Epoch 19/20\n",
      "251/251 [==============================] - 47s 185ms/step - loss: 0.0488 - categorical_accuracy: 0.9442 - recall: 0.9442 - true_positives: 237.0000 - true_negatives: 488.0000 - false_positives: 14.0000 - false_negatives: 14.0000 - val_loss: 0.1186 - val_categorical_accuracy: 0.8636 - val_recall: 0.8636 - val_true_positives: 57.0000 - val_true_negatives: 123.0000 - val_false_positives: 9.0000 - val_false_negatives: 9.0000\n",
      "Epoch 20/20\n",
      "251/251 [==============================] - 47s 187ms/step - loss: 0.0345 - categorical_accuracy: 0.9761 - recall: 0.9761 - true_positives: 245.0000 - true_negatives: 496.0000 - false_positives: 6.0000 - false_negatives: 6.0000 - val_loss: 0.1055 - val_categorical_accuracy: 0.8636 - val_recall: 0.8636 - val_true_positives: 57.0000 - val_true_negatives: 123.0000 - val_false_positives: 9.0000 - val_false_negatives: 9.0000\n"
     ]
    }
   ],
   "source": [
    "history_6 = model_6.fit(x=train_generator, validation_data=validation_generator, epochs=20)"
   ]
  }
 ],
 "metadata": {
  "kernelspec": {
   "display_name": "Python 3",
   "language": "python",
   "name": "python3"
  },
  "language_info": {
   "codemirror_mode": {
    "name": "ipython",
    "version": 3
   },
   "file_extension": ".py",
   "mimetype": "text/x-python",
   "name": "python",
   "nbconvert_exporter": "python",
   "pygments_lexer": "ipython3",
   "version": "3.7.12"
  },
  "papermill": {
   "default_parameters": {},
   "duration": 5613.198806,
   "end_time": "2023-01-23T19:19:16.122952",
   "environment_variables": {},
   "exception": null,
   "input_path": "__notebook__.ipynb",
   "output_path": "__notebook__.ipynb",
   "parameters": {},
   "start_time": "2023-01-23T17:45:42.924146",
   "version": "2.3.4"
  }
 },
 "nbformat": 4,
 "nbformat_minor": 5
}
